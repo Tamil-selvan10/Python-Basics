{
 "cells": [
  {
   "cell_type": "markdown",
   "id": "6fffcb07",
   "metadata": {},
   "source": [
    "# Exception Handling\n",
    "\n",
    "- Compilation error\n",
    "- Run Time Error\n",
    "\n",
    "Exception handling will handle only run time error"
   ]
  },
  {
   "cell_type": "markdown",
   "id": "a0317434",
   "metadata": {},
   "source": [
    "##### Syntax\n",
    "try:\n",
    "\n",
    "    - code that may cause exception\n",
    "    \n",
    "except:\n",
    "    \n",
    "    - code that runs when an exception occcurs\n",
    "    - except block will handle only run-time errors\n",
    "    \n",
    "else:\n",
    "    \n",
    "    - code that runs when no exception occurs\n",
    "    \n",
    "finally:\n",
    "    \n",
    "    - code that runs no matter whether there is exception or not\n",
    "    \n",
    "    \n",
    "    \n",
    "    \n",
    "    \n",
    "- 1 try block\n",
    "- 1 or more except block\n",
    "- only one finally block"
   ]
  },
  {
   "cell_type": "markdown",
   "id": "2efd7525",
   "metadata": {},
   "source": [
    "#### NameError"
   ]
  },
  {
   "cell_type": "code",
   "execution_count": 1,
   "id": "11f5e313",
   "metadata": {},
   "outputs": [
    {
     "name": "stdout",
     "output_type": "stream",
     "text": [
      "NameError : name 'x' is not defined\n"
     ]
    }
   ],
   "source": [
    "try:\n",
    "    print(x)    \n",
    "except Exception as e:\n",
    "    print(type(e).__name__,':',e)\n",
    "    "
   ]
  },
  {
   "cell_type": "code",
   "execution_count": 2,
   "id": "53e5bdd1",
   "metadata": {},
   "outputs": [
    {
     "name": "stdout",
     "output_type": "stream",
     "text": [
      "10\n"
     ]
    }
   ],
   "source": [
    "try:\n",
    "    x=10\n",
    "    print(x)\n",
    "except Exception as e:\n",
    "    print(type(e).__name__,':',e) "
   ]
  },
  {
   "cell_type": "markdown",
   "id": "b4a349a7",
   "metadata": {},
   "source": [
    "#### TypeError"
   ]
  },
  {
   "cell_type": "code",
   "execution_count": 3,
   "id": "3e01d623",
   "metadata": {},
   "outputs": [
    {
     "name": "stdout",
     "output_type": "stream",
     "text": [
      "TypeError : can only concatenate str (not \"int\") to str\n"
     ]
    }
   ],
   "source": [
    "try: \n",
    "    x='10'\n",
    "    y=5\n",
    "    z=x+y\n",
    "    print(z)\n",
    "    \n",
    "except Exception as e:\n",
    "    print(type(e).__name__,':',e)"
   ]
  },
  {
   "cell_type": "markdown",
   "id": "fd4e7e81",
   "metadata": {},
   "source": [
    "#### ValueError"
   ]
  },
  {
   "cell_type": "code",
   "execution_count": 4,
   "id": "0fe84989",
   "metadata": {},
   "outputs": [
    {
     "name": "stdout",
     "output_type": "stream",
     "text": [
      "Enter num1:4\n",
      "Enter num2:2\n",
      "result:2.0\n"
     ]
    }
   ],
   "source": [
    "try:\n",
    "    a=int(input('Enter num1:'))\n",
    "    b=int(input('Enter num2:'))\n",
    "    result=a/b\n",
    "    print(f'result:{result}')    \n",
    "except Exception as e:\n",
    "    print(type(e).__name__,':',e)  "
   ]
  },
  {
   "cell_type": "code",
   "execution_count": 5,
   "id": "4e4f937b",
   "metadata": {},
   "outputs": [
    {
     "name": "stdout",
     "output_type": "stream",
     "text": [
      "Enter num1:4\n",
      "Enter num2:2.5\n",
      "ValueError : invalid literal for int() with base 10: '2.5'\n"
     ]
    }
   ],
   "source": [
    "try:\n",
    "    a=int(input('Enter num1:'))\n",
    "    b=int(input('Enter num2:'))\n",
    "    result=a/b\n",
    "    print(f'result:{result}')    \n",
    "except Exception as e:\n",
    "    print(type(e).__name__,':',e)  "
   ]
  },
  {
   "cell_type": "markdown",
   "id": "7b4589ac",
   "metadata": {},
   "source": [
    "#### ZeroDivisionError"
   ]
  },
  {
   "cell_type": "code",
   "execution_count": 7,
   "id": "0946fcf3",
   "metadata": {},
   "outputs": [
    {
     "name": "stdout",
     "output_type": "stream",
     "text": [
      "Enter num1:4\n",
      "Enter num2:2\n",
      "result:2.0\n"
     ]
    }
   ],
   "source": [
    "try:\n",
    "    a=int(input('Enter num1:'))\n",
    "    b=int(input('Enter num2:'))\n",
    "    result=a/b\n",
    "    print(f'result:{result}')    \n",
    "except Exception as e:\n",
    "    print(type(e).__name__,':',e)  "
   ]
  },
  {
   "cell_type": "code",
   "execution_count": 8,
   "id": "a43a75a4",
   "metadata": {},
   "outputs": [
    {
     "name": "stdout",
     "output_type": "stream",
     "text": [
      "Enter num1:2\n",
      "Enter num2:0\n",
      "ZeroDivisionError : division by zero\n"
     ]
    }
   ],
   "source": [
    "try:\n",
    "    a=int(input('Enter num1:'))\n",
    "    b=int(input('Enter num2:'))\n",
    "    result=a/b\n",
    "    print(f'result:{result}')    \n",
    "except Exception as e:\n",
    "    print(type(e).__name__,':',e)  "
   ]
  },
  {
   "cell_type": "markdown",
   "id": "164414da",
   "metadata": {},
   "source": [
    "##### IndexError"
   ]
  },
  {
   "cell_type": "code",
   "execution_count": 9,
   "id": "bbe103e0",
   "metadata": {},
   "outputs": [
    {
     "name": "stdout",
     "output_type": "stream",
     "text": [
      "IndexError : list index out of range\n"
     ]
    }
   ],
   "source": [
    "try:\n",
    "    l=[1,2,3,4]\n",
    "    print(l[4])\n",
    "    \n",
    "except Exception as e:\n",
    "    print(type(e).__name__,':',e)"
   ]
  },
  {
   "cell_type": "markdown",
   "id": "a0b6336d",
   "metadata": {},
   "source": [
    "#### KeyError"
   ]
  },
  {
   "cell_type": "code",
   "execution_count": 10,
   "id": "cbca527c",
   "metadata": {},
   "outputs": [
    {
     "name": "stdout",
     "output_type": "stream",
     "text": [
      "KeyError : 'city'\n"
     ]
    }
   ],
   "source": [
    "try:\n",
    "    d={'name':'vijay','age':22}\n",
    "    print(d['city'])\n",
    "except Exception as e:\n",
    "    print(type(e).__name__,':',e)"
   ]
  },
  {
   "cell_type": "markdown",
   "id": "aca324e6",
   "metadata": {},
   "source": [
    "#### AttributeError"
   ]
  },
  {
   "cell_type": "code",
   "execution_count": 11,
   "id": "6aea5b96",
   "metadata": {},
   "outputs": [
    {
     "name": "stdout",
     "output_type": "stream",
     "text": [
      "AttributeError : 'int' object has no attribute 'append'\n"
     ]
    }
   ],
   "source": [
    "try:\n",
    "    a=10\n",
    "    a.append(20)\n",
    "    \n",
    "except Exception as e:\n",
    "    print(type(e).__name__,':',e)"
   ]
  },
  {
   "cell_type": "markdown",
   "id": "e3c6b7ce",
   "metadata": {},
   "source": [
    "#### ImportError"
   ]
  },
  {
   "cell_type": "code",
   "execution_count": 12,
   "id": "c21204c9",
   "metadata": {},
   "outputs": [
    {
     "name": "stdout",
     "output_type": "stream",
     "text": [
      "ModuleNotFoundError : No module named 'lib123'\n"
     ]
    }
   ],
   "source": [
    "try:\n",
    "    import lib123\n",
    "    \n",
    "except Exception as e:\n",
    "    print(type(e).__name__,':',e)"
   ]
  },
  {
   "cell_type": "markdown",
   "id": "8c3c205c",
   "metadata": {},
   "source": [
    "#### SyntaxError"
   ]
  },
  {
   "cell_type": "code",
   "execution_count": 13,
   "id": "e091e33d",
   "metadata": {},
   "outputs": [
    {
     "ename": "SyntaxError",
     "evalue": "'(' was never closed (4130011474.py, line 2)",
     "output_type": "error",
     "traceback": [
      "\u001b[1;36m  Cell \u001b[1;32mIn[13], line 2\u001b[1;36m\u001b[0m\n\u001b[1;33m    print(\u001b[0m\n\u001b[1;37m         ^\u001b[0m\n\u001b[1;31mSyntaxError\u001b[0m\u001b[1;31m:\u001b[0m '(' was never closed\n"
     ]
    }
   ],
   "source": [
    "try:\n",
    "    print(\n",
    "    \n",
    "except Exception as e:    \n",
    "    print(type(e).__name__,':',e)"
   ]
  },
  {
   "cell_type": "markdown",
   "id": "4ad9577f",
   "metadata": {},
   "source": [
    "#### IndentationError"
   ]
  },
  {
   "cell_type": "code",
   "execution_count": 14,
   "id": "351e44bf",
   "metadata": {},
   "outputs": [
    {
     "ename": "IndentationError",
     "evalue": "expected an indented block after 'try' statement on line 1 (2215529304.py, line 2)",
     "output_type": "error",
     "traceback": [
      "\u001b[1;36m  Cell \u001b[1;32mIn[14], line 2\u001b[1;36m\u001b[0m\n\u001b[1;33m    print()\u001b[0m\n\u001b[1;37m    ^\u001b[0m\n\u001b[1;31mIndentationError\u001b[0m\u001b[1;31m:\u001b[0m expected an indented block after 'try' statement on line 1\n"
     ]
    }
   ],
   "source": [
    "try:\n",
    "print()    \n",
    "    \n",
    "except Exception as e:\n",
    "    print(type(e).__name__,':',e)"
   ]
  },
  {
   "cell_type": "markdown",
   "id": "b0fcd11d",
   "metadata": {},
   "source": [
    "#### MemoryError"
   ]
  },
  {
   "cell_type": "code",
   "execution_count": 15,
   "id": "08b75173",
   "metadata": {},
   "outputs": [
    {
     "name": "stdout",
     "output_type": "stream",
     "text": [
      "MemoryError : \n"
     ]
    }
   ],
   "source": [
    "try:\n",
    "    l=[1]*(10**12)\n",
    "    \n",
    "except Exception as e:    \n",
    "    print(type(e).__name__,':',e)"
   ]
  },
  {
   "cell_type": "markdown",
   "id": "7c555b2c",
   "metadata": {},
   "source": [
    "#### OverflowError"
   ]
  },
  {
   "cell_type": "code",
   "execution_count": 24,
   "id": "357b4ee9",
   "metadata": {},
   "outputs": [
    {
     "name": "stdout",
     "output_type": "stream",
     "text": [
      "ValueError : Exceeds the limit (4300) for integer string conversion; use sys.set_int_max_str_digits() to increase the limit\n"
     ]
    }
   ],
   "source": [
    "try:\n",
    "    \n",
    "    a=5000**10000\n",
    "    print(a)\n",
    "    \n",
    "except Exception as e:    \n",
    "    print(type(e).__name__,':',e)"
   ]
  },
  {
   "cell_type": "markdown",
   "id": "97e1abcd",
   "metadata": {},
   "source": [
    "#### FileNotFoundError"
   ]
  },
  {
   "cell_type": "code",
   "execution_count": 25,
   "id": "2b7186df",
   "metadata": {},
   "outputs": [
    {
     "name": "stdout",
     "output_type": "stream",
     "text": [
      "FileNotFoundError : [Errno 2] No such file or directory: 'm_file_123.txt'\n"
     ]
    }
   ],
   "source": [
    "try:\n",
    "    \n",
    "    file_location='m_file_123.txt'\n",
    "    \n",
    "    with open(file_location,'r') as file:\n",
    "        contents=file.read()\n",
    "    \n",
    "except Exception as e:    \n",
    "    print(type(e).__name__,':',e)\n",
    "    "
   ]
  },
  {
   "cell_type": "markdown",
   "id": "0575392a",
   "metadata": {},
   "source": [
    "##### IOError"
   ]
  },
  {
   "cell_type": "code",
   "execution_count": 27,
   "id": "bd19bca9",
   "metadata": {},
   "outputs": [
    {
     "name": "stdout",
     "output_type": "stream",
     "text": [
      "PermissionError : [Errno 13] Permission denied: 'file_19062023.txt'\n"
     ]
    }
   ],
   "source": [
    "try:\n",
    "    file_location='file_19062023.txt'\n",
    "    with open(file_location,'w') as file:\n",
    "        contents=file.read()\n",
    "except Exception as e:    \n",
    "    print(type(e).__name__,':',e)"
   ]
  },
  {
   "cell_type": "markdown",
   "id": "b2b939db",
   "metadata": {},
   "source": [
    "#### raise \n",
    "- used to raise/throw an exception"
   ]
  },
  {
   "cell_type": "code",
   "execution_count": 28,
   "id": "7dc3b444",
   "metadata": {},
   "outputs": [],
   "source": [
    "def num(a):\n",
    "    if a<0:\n",
    "        raise Exception('you can\\'t enter negative value',a)"
   ]
  },
  {
   "cell_type": "code",
   "execution_count": 29,
   "id": "804ad3c6",
   "metadata": {},
   "outputs": [],
   "source": [
    "num(1)"
   ]
  },
  {
   "cell_type": "code",
   "execution_count": 30,
   "id": "5e48f939",
   "metadata": {},
   "outputs": [
    {
     "ename": "Exception",
     "evalue": "(\"you can't enter negative value\", -1)",
     "output_type": "error",
     "traceback": [
      "\u001b[1;31m---------------------------------------------------------------------------\u001b[0m",
      "\u001b[1;31mException\u001b[0m                                 Traceback (most recent call last)",
      "Cell \u001b[1;32mIn[30], line 1\u001b[0m\n\u001b[1;32m----> 1\u001b[0m \u001b[43mnum\u001b[49m\u001b[43m(\u001b[49m\u001b[38;5;241;43m-\u001b[39;49m\u001b[38;5;241;43m1\u001b[39;49m\u001b[43m)\u001b[49m\n",
      "Cell \u001b[1;32mIn[28], line 3\u001b[0m, in \u001b[0;36mnum\u001b[1;34m(a)\u001b[0m\n\u001b[0;32m      1\u001b[0m \u001b[38;5;28;01mdef\u001b[39;00m \u001b[38;5;21mnum\u001b[39m(a):\n\u001b[0;32m      2\u001b[0m     \u001b[38;5;28;01mif\u001b[39;00m a\u001b[38;5;241m<\u001b[39m\u001b[38;5;241m0\u001b[39m:\n\u001b[1;32m----> 3\u001b[0m         \u001b[38;5;28;01mraise\u001b[39;00m \u001b[38;5;167;01mException\u001b[39;00m(\u001b[38;5;124m'\u001b[39m\u001b[38;5;124myou can\u001b[39m\u001b[38;5;130;01m\\'\u001b[39;00m\u001b[38;5;124mt enter negative value\u001b[39m\u001b[38;5;124m'\u001b[39m,a)\n",
      "\u001b[1;31mException\u001b[0m: (\"you can't enter negative value\", -1)"
     ]
    }
   ],
   "source": [
    "num(-1)"
   ]
  },
  {
   "cell_type": "markdown",
   "id": "7e914cc7",
   "metadata": {},
   "source": [
    "#### Specific Exceptions"
   ]
  },
  {
   "cell_type": "code",
   "execution_count": 35,
   "id": "6d6c1f80",
   "metadata": {},
   "outputs": [],
   "source": [
    "def f():\n",
    "    try:\n",
    "        a=int(input('Enter num1:'))\n",
    "        b=int(input('Enter num2:'))\n",
    "        result=a/b\n",
    "        print(f'result:{result}')\n",
    "    except ValueError:\n",
    "        print('ValueError')\n",
    "    except ZeroDivisionError:\n",
    "        print('ZeroDivisionError')"
   ]
  },
  {
   "cell_type": "code",
   "execution_count": 37,
   "id": "bc2a6678",
   "metadata": {},
   "outputs": [
    {
     "name": "stdout",
     "output_type": "stream",
     "text": [
      "Enter num1:4\n",
      "Enter num2:2\n",
      "result:2.0\n"
     ]
    }
   ],
   "source": [
    "f()"
   ]
  },
  {
   "cell_type": "code",
   "execution_count": 38,
   "id": "5ffd642f",
   "metadata": {},
   "outputs": [
    {
     "name": "stdout",
     "output_type": "stream",
     "text": [
      "Enter num1:4\n",
      "Enter num2:0\n",
      "ZeroDivisionError\n"
     ]
    }
   ],
   "source": [
    "f()"
   ]
  },
  {
   "cell_type": "code",
   "execution_count": 39,
   "id": "e2175157",
   "metadata": {},
   "outputs": [
    {
     "name": "stdout",
     "output_type": "stream",
     "text": [
      "Enter num1:4\n",
      "Enter num2:2.5\n",
      "ValueError\n"
     ]
    }
   ],
   "source": [
    "f()"
   ]
  },
  {
   "cell_type": "markdown",
   "id": "02f5e582",
   "metadata": {},
   "source": [
    "#### Flow"
   ]
  },
  {
   "cell_type": "code",
   "execution_count": 41,
   "id": "337778b1",
   "metadata": {},
   "outputs": [
    {
     "name": "stdout",
     "output_type": "stream",
     "text": [
      "Enter num1:4\n",
      "Enter num2:2\n",
      "result:2.0\n",
      "Else Block\n",
      "Finally block\n"
     ]
    }
   ],
   "source": [
    "try:\n",
    "    a=int(input('Enter num1:'))\n",
    "    b=int(input('Enter num2:'))\n",
    "    \n",
    "    result=a/b\n",
    "    \n",
    "    print(f'result:{result}')\n",
    "    \n",
    "except Exception as e:\n",
    "    print(type(e).__name__,':',e)    \n",
    "    \n",
    "else:\n",
    "    print('Else Block')\n",
    "    \n",
    "finally:\n",
    "    print('Finally block')"
   ]
  },
  {
   "cell_type": "code",
   "execution_count": 42,
   "id": "7705846a",
   "metadata": {},
   "outputs": [
    {
     "name": "stdout",
     "output_type": "stream",
     "text": [
      "Enter num1:4\n",
      "Enter num2:0\n",
      "ZeroDivisionError : division by zero\n",
      "Finally block\n"
     ]
    }
   ],
   "source": [
    "try:\n",
    "    a=int(input('Enter num1:'))\n",
    "    b=int(input('Enter num2:'))\n",
    "    \n",
    "    result=a/b\n",
    "    \n",
    "    print(f'result:{result}')\n",
    "    \n",
    "except Exception as e:\n",
    "    print(type(e).__name__,':',e)    \n",
    "    \n",
    "else:\n",
    "    print('Else Block')\n",
    "    \n",
    "finally:\n",
    "    print('Finally block')"
   ]
  },
  {
   "cell_type": "code",
   "execution_count": null,
   "id": "7aff3266",
   "metadata": {},
   "outputs": [],
   "source": []
  }
 ],
 "metadata": {
  "kernelspec": {
   "display_name": "Python 3 (ipykernel)",
   "language": "python",
   "name": "python3"
  },
  "language_info": {
   "codemirror_mode": {
    "name": "ipython",
    "version": 3
   },
   "file_extension": ".py",
   "mimetype": "text/x-python",
   "name": "python",
   "nbconvert_exporter": "python",
   "pygments_lexer": "ipython3",
   "version": "3.10.9"
  }
 },
 "nbformat": 4,
 "nbformat_minor": 5
}
