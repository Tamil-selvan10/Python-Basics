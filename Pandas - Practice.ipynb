{
 "cells": [
  {
   "cell_type": "code",
   "execution_count": 1,
   "id": "1e9f7778",
   "metadata": {},
   "outputs": [],
   "source": [
    "import numpy as np\n",
    "import pandas as pd"
   ]
  },
  {
   "cell_type": "code",
   "execution_count": 3,
   "id": "c36f8397",
   "metadata": {},
   "outputs": [
    {
     "data": {
      "text/html": [
       "<div>\n",
       "<style scoped>\n",
       "    .dataframe tbody tr th:only-of-type {\n",
       "        vertical-align: middle;\n",
       "    }\n",
       "\n",
       "    .dataframe tbody tr th {\n",
       "        vertical-align: top;\n",
       "    }\n",
       "\n",
       "    .dataframe thead th {\n",
       "        text-align: right;\n",
       "    }\n",
       "</style>\n",
       "<table border=\"1\" class=\"dataframe\">\n",
       "  <thead>\n",
       "    <tr style=\"text-align: right;\">\n",
       "      <th></th>\n",
       "      <th>sepal_length</th>\n",
       "      <th>sepal_width</th>\n",
       "      <th>petal_length</th>\n",
       "      <th>petal_width</th>\n",
       "      <th>species</th>\n",
       "    </tr>\n",
       "  </thead>\n",
       "  <tbody>\n",
       "    <tr>\n",
       "      <th>0</th>\n",
       "      <td>5.1</td>\n",
       "      <td>3.5</td>\n",
       "      <td>1.4</td>\n",
       "      <td>0.2</td>\n",
       "      <td>setosa</td>\n",
       "    </tr>\n",
       "    <tr>\n",
       "      <th>1</th>\n",
       "      <td>4.9</td>\n",
       "      <td>3.0</td>\n",
       "      <td>1.4</td>\n",
       "      <td>0.2</td>\n",
       "      <td>setosa</td>\n",
       "    </tr>\n",
       "    <tr>\n",
       "      <th>2</th>\n",
       "      <td>4.7</td>\n",
       "      <td>3.2</td>\n",
       "      <td>1.3</td>\n",
       "      <td>0.2</td>\n",
       "      <td>setosa</td>\n",
       "    </tr>\n",
       "    <tr>\n",
       "      <th>3</th>\n",
       "      <td>4.6</td>\n",
       "      <td>3.1</td>\n",
       "      <td>1.5</td>\n",
       "      <td>0.2</td>\n",
       "      <td>setosa</td>\n",
       "    </tr>\n",
       "    <tr>\n",
       "      <th>4</th>\n",
       "      <td>5.0</td>\n",
       "      <td>3.6</td>\n",
       "      <td>1.4</td>\n",
       "      <td>0.2</td>\n",
       "      <td>setosa</td>\n",
       "    </tr>\n",
       "    <tr>\n",
       "      <th>...</th>\n",
       "      <td>...</td>\n",
       "      <td>...</td>\n",
       "      <td>...</td>\n",
       "      <td>...</td>\n",
       "      <td>...</td>\n",
       "    </tr>\n",
       "    <tr>\n",
       "      <th>145</th>\n",
       "      <td>6.7</td>\n",
       "      <td>3.0</td>\n",
       "      <td>5.2</td>\n",
       "      <td>2.3</td>\n",
       "      <td>virginica</td>\n",
       "    </tr>\n",
       "    <tr>\n",
       "      <th>146</th>\n",
       "      <td>6.3</td>\n",
       "      <td>2.5</td>\n",
       "      <td>5.0</td>\n",
       "      <td>1.9</td>\n",
       "      <td>virginica</td>\n",
       "    </tr>\n",
       "    <tr>\n",
       "      <th>147</th>\n",
       "      <td>6.5</td>\n",
       "      <td>3.0</td>\n",
       "      <td>5.2</td>\n",
       "      <td>2.0</td>\n",
       "      <td>virginica</td>\n",
       "    </tr>\n",
       "    <tr>\n",
       "      <th>148</th>\n",
       "      <td>6.2</td>\n",
       "      <td>3.4</td>\n",
       "      <td>5.4</td>\n",
       "      <td>2.3</td>\n",
       "      <td>virginica</td>\n",
       "    </tr>\n",
       "    <tr>\n",
       "      <th>149</th>\n",
       "      <td>5.9</td>\n",
       "      <td>3.0</td>\n",
       "      <td>5.1</td>\n",
       "      <td>1.8</td>\n",
       "      <td>virginica</td>\n",
       "    </tr>\n",
       "  </tbody>\n",
       "</table>\n",
       "<p>150 rows × 5 columns</p>\n",
       "</div>"
      ],
      "text/plain": [
       "     sepal_length  sepal_width  petal_length  petal_width    species\n",
       "0             5.1          3.5           1.4          0.2     setosa\n",
       "1             4.9          3.0           1.4          0.2     setosa\n",
       "2             4.7          3.2           1.3          0.2     setosa\n",
       "3             4.6          3.1           1.5          0.2     setosa\n",
       "4             5.0          3.6           1.4          0.2     setosa\n",
       "..            ...          ...           ...          ...        ...\n",
       "145           6.7          3.0           5.2          2.3  virginica\n",
       "146           6.3          2.5           5.0          1.9  virginica\n",
       "147           6.5          3.0           5.2          2.0  virginica\n",
       "148           6.2          3.4           5.4          2.3  virginica\n",
       "149           5.9          3.0           5.1          1.8  virginica\n",
       "\n",
       "[150 rows x 5 columns]"
      ]
     },
     "execution_count": 3,
     "metadata": {},
     "output_type": "execute_result"
    }
   ],
   "source": [
    "from seaborn import load_dataset\n",
    "df=load_dataset('iris')\n",
    "df"
   ]
  },
  {
   "cell_type": "code",
   "execution_count": 4,
   "id": "55036861",
   "metadata": {},
   "outputs": [
    {
     "data": {
      "text/plain": [
       "(150, 5)"
      ]
     },
     "execution_count": 4,
     "metadata": {},
     "output_type": "execute_result"
    }
   ],
   "source": [
    "df.shape"
   ]
  },
  {
   "cell_type": "code",
   "execution_count": 5,
   "id": "ab760f1d",
   "metadata": {},
   "outputs": [
    {
     "data": {
      "text/plain": [
       "750"
      ]
     },
     "execution_count": 5,
     "metadata": {},
     "output_type": "execute_result"
    }
   ],
   "source": [
    "df.size"
   ]
  },
  {
   "cell_type": "code",
   "execution_count": 6,
   "id": "e7b1a8f3",
   "metadata": {},
   "outputs": [
    {
     "data": {
      "text/html": [
       "<div>\n",
       "<style scoped>\n",
       "    .dataframe tbody tr th:only-of-type {\n",
       "        vertical-align: middle;\n",
       "    }\n",
       "\n",
       "    .dataframe tbody tr th {\n",
       "        vertical-align: top;\n",
       "    }\n",
       "\n",
       "    .dataframe thead th {\n",
       "        text-align: right;\n",
       "    }\n",
       "</style>\n",
       "<table border=\"1\" class=\"dataframe\">\n",
       "  <thead>\n",
       "    <tr style=\"text-align: right;\">\n",
       "      <th></th>\n",
       "      <th>sepal_length</th>\n",
       "      <th>sepal_width</th>\n",
       "      <th>petal_length</th>\n",
       "      <th>petal_width</th>\n",
       "      <th>species</th>\n",
       "    </tr>\n",
       "  </thead>\n",
       "  <tbody>\n",
       "    <tr>\n",
       "      <th>0</th>\n",
       "      <td>5.1</td>\n",
       "      <td>3.5</td>\n",
       "      <td>1.4</td>\n",
       "      <td>0.2</td>\n",
       "      <td>setosa</td>\n",
       "    </tr>\n",
       "    <tr>\n",
       "      <th>1</th>\n",
       "      <td>4.9</td>\n",
       "      <td>3.0</td>\n",
       "      <td>1.4</td>\n",
       "      <td>0.2</td>\n",
       "      <td>setosa</td>\n",
       "    </tr>\n",
       "    <tr>\n",
       "      <th>2</th>\n",
       "      <td>4.7</td>\n",
       "      <td>3.2</td>\n",
       "      <td>1.3</td>\n",
       "      <td>0.2</td>\n",
       "      <td>setosa</td>\n",
       "    </tr>\n",
       "    <tr>\n",
       "      <th>3</th>\n",
       "      <td>4.6</td>\n",
       "      <td>3.1</td>\n",
       "      <td>1.5</td>\n",
       "      <td>0.2</td>\n",
       "      <td>setosa</td>\n",
       "    </tr>\n",
       "    <tr>\n",
       "      <th>4</th>\n",
       "      <td>5.0</td>\n",
       "      <td>3.6</td>\n",
       "      <td>1.4</td>\n",
       "      <td>0.2</td>\n",
       "      <td>setosa</td>\n",
       "    </tr>\n",
       "  </tbody>\n",
       "</table>\n",
       "</div>"
      ],
      "text/plain": [
       "   sepal_length  sepal_width  petal_length  petal_width species\n",
       "0           5.1          3.5           1.4          0.2  setosa\n",
       "1           4.9          3.0           1.4          0.2  setosa\n",
       "2           4.7          3.2           1.3          0.2  setosa\n",
       "3           4.6          3.1           1.5          0.2  setosa\n",
       "4           5.0          3.6           1.4          0.2  setosa"
      ]
     },
     "execution_count": 6,
     "metadata": {},
     "output_type": "execute_result"
    }
   ],
   "source": [
    "df.head()"
   ]
  },
  {
   "cell_type": "code",
   "execution_count": 7,
   "id": "9676c8cb",
   "metadata": {},
   "outputs": [
    {
     "data": {
      "text/html": [
       "<div>\n",
       "<style scoped>\n",
       "    .dataframe tbody tr th:only-of-type {\n",
       "        vertical-align: middle;\n",
       "    }\n",
       "\n",
       "    .dataframe tbody tr th {\n",
       "        vertical-align: top;\n",
       "    }\n",
       "\n",
       "    .dataframe thead th {\n",
       "        text-align: right;\n",
       "    }\n",
       "</style>\n",
       "<table border=\"1\" class=\"dataframe\">\n",
       "  <thead>\n",
       "    <tr style=\"text-align: right;\">\n",
       "      <th></th>\n",
       "      <th>sepal_length</th>\n",
       "      <th>sepal_width</th>\n",
       "      <th>petal_length</th>\n",
       "      <th>petal_width</th>\n",
       "      <th>species</th>\n",
       "    </tr>\n",
       "  </thead>\n",
       "  <tbody>\n",
       "    <tr>\n",
       "      <th>0</th>\n",
       "      <td>5.1</td>\n",
       "      <td>3.5</td>\n",
       "      <td>1.4</td>\n",
       "      <td>0.2</td>\n",
       "      <td>setosa</td>\n",
       "    </tr>\n",
       "    <tr>\n",
       "      <th>1</th>\n",
       "      <td>4.9</td>\n",
       "      <td>3.0</td>\n",
       "      <td>1.4</td>\n",
       "      <td>0.2</td>\n",
       "      <td>setosa</td>\n",
       "    </tr>\n",
       "    <tr>\n",
       "      <th>2</th>\n",
       "      <td>4.7</td>\n",
       "      <td>3.2</td>\n",
       "      <td>1.3</td>\n",
       "      <td>0.2</td>\n",
       "      <td>setosa</td>\n",
       "    </tr>\n",
       "  </tbody>\n",
       "</table>\n",
       "</div>"
      ],
      "text/plain": [
       "   sepal_length  sepal_width  petal_length  petal_width species\n",
       "0           5.1          3.5           1.4          0.2  setosa\n",
       "1           4.9          3.0           1.4          0.2  setosa\n",
       "2           4.7          3.2           1.3          0.2  setosa"
      ]
     },
     "execution_count": 7,
     "metadata": {},
     "output_type": "execute_result"
    }
   ],
   "source": [
    "df.head(n=3)"
   ]
  },
  {
   "cell_type": "code",
   "execution_count": 8,
   "id": "b6016081",
   "metadata": {},
   "outputs": [
    {
     "data": {
      "text/html": [
       "<div>\n",
       "<style scoped>\n",
       "    .dataframe tbody tr th:only-of-type {\n",
       "        vertical-align: middle;\n",
       "    }\n",
       "\n",
       "    .dataframe tbody tr th {\n",
       "        vertical-align: top;\n",
       "    }\n",
       "\n",
       "    .dataframe thead th {\n",
       "        text-align: right;\n",
       "    }\n",
       "</style>\n",
       "<table border=\"1\" class=\"dataframe\">\n",
       "  <thead>\n",
       "    <tr style=\"text-align: right;\">\n",
       "      <th></th>\n",
       "      <th>sepal_length</th>\n",
       "      <th>sepal_width</th>\n",
       "      <th>petal_length</th>\n",
       "      <th>petal_width</th>\n",
       "      <th>species</th>\n",
       "    </tr>\n",
       "  </thead>\n",
       "  <tbody>\n",
       "    <tr>\n",
       "      <th>145</th>\n",
       "      <td>6.7</td>\n",
       "      <td>3.0</td>\n",
       "      <td>5.2</td>\n",
       "      <td>2.3</td>\n",
       "      <td>virginica</td>\n",
       "    </tr>\n",
       "    <tr>\n",
       "      <th>146</th>\n",
       "      <td>6.3</td>\n",
       "      <td>2.5</td>\n",
       "      <td>5.0</td>\n",
       "      <td>1.9</td>\n",
       "      <td>virginica</td>\n",
       "    </tr>\n",
       "    <tr>\n",
       "      <th>147</th>\n",
       "      <td>6.5</td>\n",
       "      <td>3.0</td>\n",
       "      <td>5.2</td>\n",
       "      <td>2.0</td>\n",
       "      <td>virginica</td>\n",
       "    </tr>\n",
       "    <tr>\n",
       "      <th>148</th>\n",
       "      <td>6.2</td>\n",
       "      <td>3.4</td>\n",
       "      <td>5.4</td>\n",
       "      <td>2.3</td>\n",
       "      <td>virginica</td>\n",
       "    </tr>\n",
       "    <tr>\n",
       "      <th>149</th>\n",
       "      <td>5.9</td>\n",
       "      <td>3.0</td>\n",
       "      <td>5.1</td>\n",
       "      <td>1.8</td>\n",
       "      <td>virginica</td>\n",
       "    </tr>\n",
       "  </tbody>\n",
       "</table>\n",
       "</div>"
      ],
      "text/plain": [
       "     sepal_length  sepal_width  petal_length  petal_width    species\n",
       "145           6.7          3.0           5.2          2.3  virginica\n",
       "146           6.3          2.5           5.0          1.9  virginica\n",
       "147           6.5          3.0           5.2          2.0  virginica\n",
       "148           6.2          3.4           5.4          2.3  virginica\n",
       "149           5.9          3.0           5.1          1.8  virginica"
      ]
     },
     "execution_count": 8,
     "metadata": {},
     "output_type": "execute_result"
    }
   ],
   "source": [
    "df.tail()"
   ]
  },
  {
   "cell_type": "code",
   "execution_count": 9,
   "id": "1f988bab",
   "metadata": {},
   "outputs": [
    {
     "data": {
      "text/html": [
       "<div>\n",
       "<style scoped>\n",
       "    .dataframe tbody tr th:only-of-type {\n",
       "        vertical-align: middle;\n",
       "    }\n",
       "\n",
       "    .dataframe tbody tr th {\n",
       "        vertical-align: top;\n",
       "    }\n",
       "\n",
       "    .dataframe thead th {\n",
       "        text-align: right;\n",
       "    }\n",
       "</style>\n",
       "<table border=\"1\" class=\"dataframe\">\n",
       "  <thead>\n",
       "    <tr style=\"text-align: right;\">\n",
       "      <th></th>\n",
       "      <th>sepal_length</th>\n",
       "      <th>sepal_width</th>\n",
       "      <th>petal_length</th>\n",
       "      <th>petal_width</th>\n",
       "      <th>species</th>\n",
       "    </tr>\n",
       "  </thead>\n",
       "  <tbody>\n",
       "    <tr>\n",
       "      <th>147</th>\n",
       "      <td>6.5</td>\n",
       "      <td>3.0</td>\n",
       "      <td>5.2</td>\n",
       "      <td>2.0</td>\n",
       "      <td>virginica</td>\n",
       "    </tr>\n",
       "    <tr>\n",
       "      <th>148</th>\n",
       "      <td>6.2</td>\n",
       "      <td>3.4</td>\n",
       "      <td>5.4</td>\n",
       "      <td>2.3</td>\n",
       "      <td>virginica</td>\n",
       "    </tr>\n",
       "    <tr>\n",
       "      <th>149</th>\n",
       "      <td>5.9</td>\n",
       "      <td>3.0</td>\n",
       "      <td>5.1</td>\n",
       "      <td>1.8</td>\n",
       "      <td>virginica</td>\n",
       "    </tr>\n",
       "  </tbody>\n",
       "</table>\n",
       "</div>"
      ],
      "text/plain": [
       "     sepal_length  sepal_width  petal_length  petal_width    species\n",
       "147           6.5          3.0           5.2          2.0  virginica\n",
       "148           6.2          3.4           5.4          2.3  virginica\n",
       "149           5.9          3.0           5.1          1.8  virginica"
      ]
     },
     "execution_count": 9,
     "metadata": {},
     "output_type": "execute_result"
    }
   ],
   "source": [
    "df.tail(n=3)"
   ]
  },
  {
   "cell_type": "code",
   "execution_count": 10,
   "id": "3d04a1c3",
   "metadata": {},
   "outputs": [
    {
     "data": {
      "text/plain": [
       "sepal_length    float64\n",
       "sepal_width     float64\n",
       "petal_length    float64\n",
       "petal_width     float64\n",
       "species          object\n",
       "dtype: object"
      ]
     },
     "execution_count": 10,
     "metadata": {},
     "output_type": "execute_result"
    }
   ],
   "source": [
    "df.dtypes"
   ]
  },
  {
   "cell_type": "code",
   "execution_count": 11,
   "id": "67960cc5",
   "metadata": {},
   "outputs": [
    {
     "name": "stdout",
     "output_type": "stream",
     "text": [
      "<class 'pandas.core.frame.DataFrame'>\n",
      "RangeIndex: 150 entries, 0 to 149\n",
      "Data columns (total 5 columns):\n",
      " #   Column        Non-Null Count  Dtype  \n",
      "---  ------        --------------  -----  \n",
      " 0   sepal_length  150 non-null    float64\n",
      " 1   sepal_width   150 non-null    float64\n",
      " 2   petal_length  150 non-null    float64\n",
      " 3   petal_width   150 non-null    float64\n",
      " 4   species       150 non-null    object \n",
      "dtypes: float64(4), object(1)\n",
      "memory usage: 6.0+ KB\n"
     ]
    }
   ],
   "source": [
    "df.info()"
   ]
  },
  {
   "cell_type": "code",
   "execution_count": 12,
   "id": "a28ffe01",
   "metadata": {},
   "outputs": [
    {
     "data": {
      "text/html": [
       "<div>\n",
       "<style scoped>\n",
       "    .dataframe tbody tr th:only-of-type {\n",
       "        vertical-align: middle;\n",
       "    }\n",
       "\n",
       "    .dataframe tbody tr th {\n",
       "        vertical-align: top;\n",
       "    }\n",
       "\n",
       "    .dataframe thead th {\n",
       "        text-align: right;\n",
       "    }\n",
       "</style>\n",
       "<table border=\"1\" class=\"dataframe\">\n",
       "  <thead>\n",
       "    <tr style=\"text-align: right;\">\n",
       "      <th></th>\n",
       "      <th>sepal_length</th>\n",
       "      <th>sepal_width</th>\n",
       "      <th>petal_length</th>\n",
       "      <th>petal_width</th>\n",
       "    </tr>\n",
       "  </thead>\n",
       "  <tbody>\n",
       "    <tr>\n",
       "      <th>count</th>\n",
       "      <td>150.000000</td>\n",
       "      <td>150.000000</td>\n",
       "      <td>150.000000</td>\n",
       "      <td>150.000000</td>\n",
       "    </tr>\n",
       "    <tr>\n",
       "      <th>mean</th>\n",
       "      <td>5.843333</td>\n",
       "      <td>3.057333</td>\n",
       "      <td>3.758000</td>\n",
       "      <td>1.199333</td>\n",
       "    </tr>\n",
       "    <tr>\n",
       "      <th>std</th>\n",
       "      <td>0.828066</td>\n",
       "      <td>0.435866</td>\n",
       "      <td>1.765298</td>\n",
       "      <td>0.762238</td>\n",
       "    </tr>\n",
       "    <tr>\n",
       "      <th>min</th>\n",
       "      <td>4.300000</td>\n",
       "      <td>2.000000</td>\n",
       "      <td>1.000000</td>\n",
       "      <td>0.100000</td>\n",
       "    </tr>\n",
       "    <tr>\n",
       "      <th>25%</th>\n",
       "      <td>5.100000</td>\n",
       "      <td>2.800000</td>\n",
       "      <td>1.600000</td>\n",
       "      <td>0.300000</td>\n",
       "    </tr>\n",
       "    <tr>\n",
       "      <th>50%</th>\n",
       "      <td>5.800000</td>\n",
       "      <td>3.000000</td>\n",
       "      <td>4.350000</td>\n",
       "      <td>1.300000</td>\n",
       "    </tr>\n",
       "    <tr>\n",
       "      <th>75%</th>\n",
       "      <td>6.400000</td>\n",
       "      <td>3.300000</td>\n",
       "      <td>5.100000</td>\n",
       "      <td>1.800000</td>\n",
       "    </tr>\n",
       "    <tr>\n",
       "      <th>max</th>\n",
       "      <td>7.900000</td>\n",
       "      <td>4.400000</td>\n",
       "      <td>6.900000</td>\n",
       "      <td>2.500000</td>\n",
       "    </tr>\n",
       "  </tbody>\n",
       "</table>\n",
       "</div>"
      ],
      "text/plain": [
       "       sepal_length  sepal_width  petal_length  petal_width\n",
       "count    150.000000   150.000000    150.000000   150.000000\n",
       "mean       5.843333     3.057333      3.758000     1.199333\n",
       "std        0.828066     0.435866      1.765298     0.762238\n",
       "min        4.300000     2.000000      1.000000     0.100000\n",
       "25%        5.100000     2.800000      1.600000     0.300000\n",
       "50%        5.800000     3.000000      4.350000     1.300000\n",
       "75%        6.400000     3.300000      5.100000     1.800000\n",
       "max        7.900000     4.400000      6.900000     2.500000"
      ]
     },
     "execution_count": 12,
     "metadata": {},
     "output_type": "execute_result"
    }
   ],
   "source": [
    "df.describe()"
   ]
  },
  {
   "cell_type": "code",
   "execution_count": 13,
   "id": "4bf48237",
   "metadata": {},
   "outputs": [
    {
     "data": {
      "text/html": [
       "<div>\n",
       "<style scoped>\n",
       "    .dataframe tbody tr th:only-of-type {\n",
       "        vertical-align: middle;\n",
       "    }\n",
       "\n",
       "    .dataframe tbody tr th {\n",
       "        vertical-align: top;\n",
       "    }\n",
       "\n",
       "    .dataframe thead th {\n",
       "        text-align: right;\n",
       "    }\n",
       "</style>\n",
       "<table border=\"1\" class=\"dataframe\">\n",
       "  <thead>\n",
       "    <tr style=\"text-align: right;\">\n",
       "      <th></th>\n",
       "      <th>sepal_length</th>\n",
       "      <th>sepal_width</th>\n",
       "      <th>petal_length</th>\n",
       "      <th>petal_width</th>\n",
       "    </tr>\n",
       "  </thead>\n",
       "  <tbody>\n",
       "    <tr>\n",
       "      <th>0</th>\n",
       "      <td>5.1</td>\n",
       "      <td>3.5</td>\n",
       "      <td>1.4</td>\n",
       "      <td>0.2</td>\n",
       "    </tr>\n",
       "    <tr>\n",
       "      <th>1</th>\n",
       "      <td>4.9</td>\n",
       "      <td>3.0</td>\n",
       "      <td>1.4</td>\n",
       "      <td>0.2</td>\n",
       "    </tr>\n",
       "    <tr>\n",
       "      <th>2</th>\n",
       "      <td>4.7</td>\n",
       "      <td>3.2</td>\n",
       "      <td>1.3</td>\n",
       "      <td>0.2</td>\n",
       "    </tr>\n",
       "    <tr>\n",
       "      <th>3</th>\n",
       "      <td>4.6</td>\n",
       "      <td>3.1</td>\n",
       "      <td>1.5</td>\n",
       "      <td>0.2</td>\n",
       "    </tr>\n",
       "    <tr>\n",
       "      <th>4</th>\n",
       "      <td>5.0</td>\n",
       "      <td>3.6</td>\n",
       "      <td>1.4</td>\n",
       "      <td>0.2</td>\n",
       "    </tr>\n",
       "    <tr>\n",
       "      <th>...</th>\n",
       "      <td>...</td>\n",
       "      <td>...</td>\n",
       "      <td>...</td>\n",
       "      <td>...</td>\n",
       "    </tr>\n",
       "    <tr>\n",
       "      <th>145</th>\n",
       "      <td>6.7</td>\n",
       "      <td>3.0</td>\n",
       "      <td>5.2</td>\n",
       "      <td>2.3</td>\n",
       "    </tr>\n",
       "    <tr>\n",
       "      <th>146</th>\n",
       "      <td>6.3</td>\n",
       "      <td>2.5</td>\n",
       "      <td>5.0</td>\n",
       "      <td>1.9</td>\n",
       "    </tr>\n",
       "    <tr>\n",
       "      <th>147</th>\n",
       "      <td>6.5</td>\n",
       "      <td>3.0</td>\n",
       "      <td>5.2</td>\n",
       "      <td>2.0</td>\n",
       "    </tr>\n",
       "    <tr>\n",
       "      <th>148</th>\n",
       "      <td>6.2</td>\n",
       "      <td>3.4</td>\n",
       "      <td>5.4</td>\n",
       "      <td>2.3</td>\n",
       "    </tr>\n",
       "    <tr>\n",
       "      <th>149</th>\n",
       "      <td>5.9</td>\n",
       "      <td>3.0</td>\n",
       "      <td>5.1</td>\n",
       "      <td>1.8</td>\n",
       "    </tr>\n",
       "  </tbody>\n",
       "</table>\n",
       "<p>150 rows × 4 columns</p>\n",
       "</div>"
      ],
      "text/plain": [
       "     sepal_length  sepal_width  petal_length  petal_width\n",
       "0             5.1          3.5           1.4          0.2\n",
       "1             4.9          3.0           1.4          0.2\n",
       "2             4.7          3.2           1.3          0.2\n",
       "3             4.6          3.1           1.5          0.2\n",
       "4             5.0          3.6           1.4          0.2\n",
       "..            ...          ...           ...          ...\n",
       "145           6.7          3.0           5.2          2.3\n",
       "146           6.3          2.5           5.0          1.9\n",
       "147           6.5          3.0           5.2          2.0\n",
       "148           6.2          3.4           5.4          2.3\n",
       "149           5.9          3.0           5.1          1.8\n",
       "\n",
       "[150 rows x 4 columns]"
      ]
     },
     "execution_count": 13,
     "metadata": {},
     "output_type": "execute_result"
    }
   ],
   "source": [
    "df.select_dtypes(exclude='object')"
   ]
  },
  {
   "cell_type": "code",
   "execution_count": 14,
   "id": "a27b966f",
   "metadata": {},
   "outputs": [
    {
     "data": {
      "text/html": [
       "<div>\n",
       "<style scoped>\n",
       "    .dataframe tbody tr th:only-of-type {\n",
       "        vertical-align: middle;\n",
       "    }\n",
       "\n",
       "    .dataframe tbody tr th {\n",
       "        vertical-align: top;\n",
       "    }\n",
       "\n",
       "    .dataframe thead th {\n",
       "        text-align: right;\n",
       "    }\n",
       "</style>\n",
       "<table border=\"1\" class=\"dataframe\">\n",
       "  <thead>\n",
       "    <tr style=\"text-align: right;\">\n",
       "      <th></th>\n",
       "      <th>species</th>\n",
       "    </tr>\n",
       "  </thead>\n",
       "  <tbody>\n",
       "    <tr>\n",
       "      <th>0</th>\n",
       "      <td>setosa</td>\n",
       "    </tr>\n",
       "    <tr>\n",
       "      <th>1</th>\n",
       "      <td>setosa</td>\n",
       "    </tr>\n",
       "    <tr>\n",
       "      <th>2</th>\n",
       "      <td>setosa</td>\n",
       "    </tr>\n",
       "    <tr>\n",
       "      <th>3</th>\n",
       "      <td>setosa</td>\n",
       "    </tr>\n",
       "    <tr>\n",
       "      <th>4</th>\n",
       "      <td>setosa</td>\n",
       "    </tr>\n",
       "    <tr>\n",
       "      <th>...</th>\n",
       "      <td>...</td>\n",
       "    </tr>\n",
       "    <tr>\n",
       "      <th>145</th>\n",
       "      <td>virginica</td>\n",
       "    </tr>\n",
       "    <tr>\n",
       "      <th>146</th>\n",
       "      <td>virginica</td>\n",
       "    </tr>\n",
       "    <tr>\n",
       "      <th>147</th>\n",
       "      <td>virginica</td>\n",
       "    </tr>\n",
       "    <tr>\n",
       "      <th>148</th>\n",
       "      <td>virginica</td>\n",
       "    </tr>\n",
       "    <tr>\n",
       "      <th>149</th>\n",
       "      <td>virginica</td>\n",
       "    </tr>\n",
       "  </tbody>\n",
       "</table>\n",
       "<p>150 rows × 1 columns</p>\n",
       "</div>"
      ],
      "text/plain": [
       "       species\n",
       "0       setosa\n",
       "1       setosa\n",
       "2       setosa\n",
       "3       setosa\n",
       "4       setosa\n",
       "..         ...\n",
       "145  virginica\n",
       "146  virginica\n",
       "147  virginica\n",
       "148  virginica\n",
       "149  virginica\n",
       "\n",
       "[150 rows x 1 columns]"
      ]
     },
     "execution_count": 14,
     "metadata": {},
     "output_type": "execute_result"
    }
   ],
   "source": [
    "df.select_dtypes(include='object')"
   ]
  },
  {
   "cell_type": "code",
   "execution_count": 16,
   "id": "2201e468",
   "metadata": {},
   "outputs": [],
   "source": [
    "def out(x):\n",
    "    d={'setosa':0,'versicolor':1,'virginica':2}\n",
    "    return d.get(x)"
   ]
  },
  {
   "cell_type": "code",
   "execution_count": 20,
   "id": "a7e14122",
   "metadata": {},
   "outputs": [
    {
     "data": {
      "text/plain": [
       "0      0\n",
       "1      0\n",
       "2      0\n",
       "3      0\n",
       "4      0\n",
       "      ..\n",
       "145    2\n",
       "146    2\n",
       "147    2\n",
       "148    2\n",
       "149    2\n",
       "Name: species, Length: 150, dtype: int64"
      ]
     },
     "execution_count": 20,
     "metadata": {},
     "output_type": "execute_result"
    }
   ],
   "source": [
    "df.select_dtypes(include='object')['species'].apply(out)"
   ]
  },
  {
   "cell_type": "code",
   "execution_count": 25,
   "id": "fbefc8ca",
   "metadata": {},
   "outputs": [
    {
     "data": {
      "text/plain": [
       "0      0\n",
       "1      0\n",
       "2      0\n",
       "3      0\n",
       "4      0\n",
       "      ..\n",
       "145    2\n",
       "146    2\n",
       "147    2\n",
       "148    2\n",
       "149    2\n",
       "Name: species, Length: 150, dtype: int64"
      ]
     },
     "execution_count": 25,
     "metadata": {},
     "output_type": "execute_result"
    }
   ],
   "source": [
    "df.select_dtypes(include='object').loc[:,'species'].apply(out)"
   ]
  },
  {
   "cell_type": "code",
   "execution_count": 26,
   "id": "f5f8ab27",
   "metadata": {},
   "outputs": [
    {
     "data": {
      "text/html": [
       "<div>\n",
       "<style scoped>\n",
       "    .dataframe tbody tr th:only-of-type {\n",
       "        vertical-align: middle;\n",
       "    }\n",
       "\n",
       "    .dataframe tbody tr th {\n",
       "        vertical-align: top;\n",
       "    }\n",
       "\n",
       "    .dataframe thead th {\n",
       "        text-align: right;\n",
       "    }\n",
       "</style>\n",
       "<table border=\"1\" class=\"dataframe\">\n",
       "  <thead>\n",
       "    <tr style=\"text-align: right;\">\n",
       "      <th></th>\n",
       "      <th>sepal_length</th>\n",
       "      <th>sepal_width</th>\n",
       "      <th>petal_length</th>\n",
       "      <th>petal_width</th>\n",
       "      <th>species</th>\n",
       "    </tr>\n",
       "  </thead>\n",
       "  <tbody>\n",
       "    <tr>\n",
       "      <th>0</th>\n",
       "      <td>False</td>\n",
       "      <td>False</td>\n",
       "      <td>False</td>\n",
       "      <td>False</td>\n",
       "      <td>False</td>\n",
       "    </tr>\n",
       "    <tr>\n",
       "      <th>1</th>\n",
       "      <td>False</td>\n",
       "      <td>False</td>\n",
       "      <td>False</td>\n",
       "      <td>False</td>\n",
       "      <td>False</td>\n",
       "    </tr>\n",
       "    <tr>\n",
       "      <th>2</th>\n",
       "      <td>False</td>\n",
       "      <td>False</td>\n",
       "      <td>False</td>\n",
       "      <td>False</td>\n",
       "      <td>False</td>\n",
       "    </tr>\n",
       "    <tr>\n",
       "      <th>3</th>\n",
       "      <td>False</td>\n",
       "      <td>False</td>\n",
       "      <td>False</td>\n",
       "      <td>False</td>\n",
       "      <td>False</td>\n",
       "    </tr>\n",
       "    <tr>\n",
       "      <th>4</th>\n",
       "      <td>False</td>\n",
       "      <td>False</td>\n",
       "      <td>False</td>\n",
       "      <td>False</td>\n",
       "      <td>False</td>\n",
       "    </tr>\n",
       "    <tr>\n",
       "      <th>...</th>\n",
       "      <td>...</td>\n",
       "      <td>...</td>\n",
       "      <td>...</td>\n",
       "      <td>...</td>\n",
       "      <td>...</td>\n",
       "    </tr>\n",
       "    <tr>\n",
       "      <th>145</th>\n",
       "      <td>False</td>\n",
       "      <td>False</td>\n",
       "      <td>False</td>\n",
       "      <td>False</td>\n",
       "      <td>False</td>\n",
       "    </tr>\n",
       "    <tr>\n",
       "      <th>146</th>\n",
       "      <td>False</td>\n",
       "      <td>False</td>\n",
       "      <td>False</td>\n",
       "      <td>False</td>\n",
       "      <td>False</td>\n",
       "    </tr>\n",
       "    <tr>\n",
       "      <th>147</th>\n",
       "      <td>False</td>\n",
       "      <td>False</td>\n",
       "      <td>False</td>\n",
       "      <td>False</td>\n",
       "      <td>False</td>\n",
       "    </tr>\n",
       "    <tr>\n",
       "      <th>148</th>\n",
       "      <td>False</td>\n",
       "      <td>False</td>\n",
       "      <td>False</td>\n",
       "      <td>False</td>\n",
       "      <td>False</td>\n",
       "    </tr>\n",
       "    <tr>\n",
       "      <th>149</th>\n",
       "      <td>False</td>\n",
       "      <td>False</td>\n",
       "      <td>False</td>\n",
       "      <td>False</td>\n",
       "      <td>False</td>\n",
       "    </tr>\n",
       "  </tbody>\n",
       "</table>\n",
       "<p>150 rows × 5 columns</p>\n",
       "</div>"
      ],
      "text/plain": [
       "     sepal_length  sepal_width  petal_length  petal_width  species\n",
       "0           False        False         False        False    False\n",
       "1           False        False         False        False    False\n",
       "2           False        False         False        False    False\n",
       "3           False        False         False        False    False\n",
       "4           False        False         False        False    False\n",
       "..            ...          ...           ...          ...      ...\n",
       "145         False        False         False        False    False\n",
       "146         False        False         False        False    False\n",
       "147         False        False         False        False    False\n",
       "148         False        False         False        False    False\n",
       "149         False        False         False        False    False\n",
       "\n",
       "[150 rows x 5 columns]"
      ]
     },
     "execution_count": 26,
     "metadata": {},
     "output_type": "execute_result"
    }
   ],
   "source": [
    "df.isnull()"
   ]
  },
  {
   "cell_type": "code",
   "execution_count": 27,
   "id": "2614fb88",
   "metadata": {},
   "outputs": [
    {
     "data": {
      "text/plain": [
       "sepal_length    False\n",
       "sepal_width     False\n",
       "petal_length    False\n",
       "petal_width     False\n",
       "species         False\n",
       "dtype: bool"
      ]
     },
     "execution_count": 27,
     "metadata": {},
     "output_type": "execute_result"
    }
   ],
   "source": [
    "df.isnull().any()"
   ]
  },
  {
   "cell_type": "code",
   "execution_count": 28,
   "id": "c4c65680",
   "metadata": {},
   "outputs": [
    {
     "data": {
      "text/plain": [
       "sepal_length    0\n",
       "sepal_width     0\n",
       "petal_length    0\n",
       "petal_width     0\n",
       "species         0\n",
       "dtype: int64"
      ]
     },
     "execution_count": 28,
     "metadata": {},
     "output_type": "execute_result"
    }
   ],
   "source": [
    "df.isnull().sum()"
   ]
  },
  {
   "cell_type": "code",
   "execution_count": 29,
   "id": "ba4f67ca",
   "metadata": {},
   "outputs": [
    {
     "data": {
      "text/html": [
       "<div>\n",
       "<style scoped>\n",
       "    .dataframe tbody tr th:only-of-type {\n",
       "        vertical-align: middle;\n",
       "    }\n",
       "\n",
       "    .dataframe tbody tr th {\n",
       "        vertical-align: top;\n",
       "    }\n",
       "\n",
       "    .dataframe thead th {\n",
       "        text-align: right;\n",
       "    }\n",
       "</style>\n",
       "<table border=\"1\" class=\"dataframe\">\n",
       "  <thead>\n",
       "    <tr style=\"text-align: right;\">\n",
       "      <th></th>\n",
       "      <th>sepal_length</th>\n",
       "      <th>sepal_width</th>\n",
       "      <th>petal_length</th>\n",
       "      <th>petal_width</th>\n",
       "      <th>species</th>\n",
       "    </tr>\n",
       "  </thead>\n",
       "  <tbody>\n",
       "    <tr>\n",
       "      <th>0</th>\n",
       "      <td>False</td>\n",
       "      <td>False</td>\n",
       "      <td>False</td>\n",
       "      <td>False</td>\n",
       "      <td>False</td>\n",
       "    </tr>\n",
       "    <tr>\n",
       "      <th>1</th>\n",
       "      <td>False</td>\n",
       "      <td>False</td>\n",
       "      <td>False</td>\n",
       "      <td>False</td>\n",
       "      <td>False</td>\n",
       "    </tr>\n",
       "    <tr>\n",
       "      <th>2</th>\n",
       "      <td>False</td>\n",
       "      <td>False</td>\n",
       "      <td>False</td>\n",
       "      <td>False</td>\n",
       "      <td>False</td>\n",
       "    </tr>\n",
       "    <tr>\n",
       "      <th>3</th>\n",
       "      <td>False</td>\n",
       "      <td>False</td>\n",
       "      <td>False</td>\n",
       "      <td>False</td>\n",
       "      <td>False</td>\n",
       "    </tr>\n",
       "    <tr>\n",
       "      <th>4</th>\n",
       "      <td>False</td>\n",
       "      <td>False</td>\n",
       "      <td>False</td>\n",
       "      <td>False</td>\n",
       "      <td>False</td>\n",
       "    </tr>\n",
       "    <tr>\n",
       "      <th>...</th>\n",
       "      <td>...</td>\n",
       "      <td>...</td>\n",
       "      <td>...</td>\n",
       "      <td>...</td>\n",
       "      <td>...</td>\n",
       "    </tr>\n",
       "    <tr>\n",
       "      <th>145</th>\n",
       "      <td>False</td>\n",
       "      <td>False</td>\n",
       "      <td>False</td>\n",
       "      <td>False</td>\n",
       "      <td>False</td>\n",
       "    </tr>\n",
       "    <tr>\n",
       "      <th>146</th>\n",
       "      <td>False</td>\n",
       "      <td>False</td>\n",
       "      <td>False</td>\n",
       "      <td>False</td>\n",
       "      <td>False</td>\n",
       "    </tr>\n",
       "    <tr>\n",
       "      <th>147</th>\n",
       "      <td>False</td>\n",
       "      <td>False</td>\n",
       "      <td>False</td>\n",
       "      <td>False</td>\n",
       "      <td>False</td>\n",
       "    </tr>\n",
       "    <tr>\n",
       "      <th>148</th>\n",
       "      <td>False</td>\n",
       "      <td>False</td>\n",
       "      <td>False</td>\n",
       "      <td>False</td>\n",
       "      <td>False</td>\n",
       "    </tr>\n",
       "    <tr>\n",
       "      <th>149</th>\n",
       "      <td>False</td>\n",
       "      <td>False</td>\n",
       "      <td>False</td>\n",
       "      <td>False</td>\n",
       "      <td>False</td>\n",
       "    </tr>\n",
       "  </tbody>\n",
       "</table>\n",
       "<p>150 rows × 5 columns</p>\n",
       "</div>"
      ],
      "text/plain": [
       "     sepal_length  sepal_width  petal_length  petal_width  species\n",
       "0           False        False         False        False    False\n",
       "1           False        False         False        False    False\n",
       "2           False        False         False        False    False\n",
       "3           False        False         False        False    False\n",
       "4           False        False         False        False    False\n",
       "..            ...          ...           ...          ...      ...\n",
       "145         False        False         False        False    False\n",
       "146         False        False         False        False    False\n",
       "147         False        False         False        False    False\n",
       "148         False        False         False        False    False\n",
       "149         False        False         False        False    False\n",
       "\n",
       "[150 rows x 5 columns]"
      ]
     },
     "execution_count": 29,
     "metadata": {},
     "output_type": "execute_result"
    }
   ],
   "source": [
    "df.isna()"
   ]
  },
  {
   "cell_type": "code",
   "execution_count": 30,
   "id": "67c70de4",
   "metadata": {},
   "outputs": [
    {
     "data": {
      "text/plain": [
       "sepal_length    False\n",
       "sepal_width     False\n",
       "petal_length    False\n",
       "petal_width     False\n",
       "species         False\n",
       "dtype: bool"
      ]
     },
     "execution_count": 30,
     "metadata": {},
     "output_type": "execute_result"
    }
   ],
   "source": [
    "df.isna().any()"
   ]
  },
  {
   "cell_type": "code",
   "execution_count": 31,
   "id": "a04b5af0",
   "metadata": {},
   "outputs": [
    {
     "data": {
      "text/plain": [
       "sepal_length    0\n",
       "sepal_width     0\n",
       "petal_length    0\n",
       "petal_width     0\n",
       "species         0\n",
       "dtype: int64"
      ]
     },
     "execution_count": 31,
     "metadata": {},
     "output_type": "execute_result"
    }
   ],
   "source": [
    "df.isna().sum()"
   ]
  },
  {
   "cell_type": "code",
   "execution_count": 34,
   "id": "c3a1481f",
   "metadata": {},
   "outputs": [
    {
     "data": {
      "text/plain": [
       "array(['setosa', 'versicolor', 'virginica'], dtype=object)"
      ]
     },
     "execution_count": 34,
     "metadata": {},
     "output_type": "execute_result"
    }
   ],
   "source": [
    "df.loc[:,'species'].unique()"
   ]
  },
  {
   "cell_type": "code",
   "execution_count": 35,
   "id": "3165ab34",
   "metadata": {},
   "outputs": [
    {
     "data": {
      "text/plain": [
       "3"
      ]
     },
     "execution_count": 35,
     "metadata": {},
     "output_type": "execute_result"
    }
   ],
   "source": [
    "df['species'].nunique()"
   ]
  },
  {
   "cell_type": "code",
   "execution_count": 43,
   "id": "c9f6203c",
   "metadata": {},
   "outputs": [
    {
     "data": {
      "text/plain": [
       "setosa        50\n",
       "versicolor    50\n",
       "virginica     50\n",
       "Name: species, dtype: int64"
      ]
     },
     "execution_count": 43,
     "metadata": {},
     "output_type": "execute_result"
    }
   ],
   "source": [
    "df['species'].value_counts()"
   ]
  },
  {
   "cell_type": "code",
   "execution_count": 47,
   "id": "1e1b3e2e",
   "metadata": {},
   "outputs": [
    {
     "data": {
      "text/plain": [
       "setosa        33.333333\n",
       "versicolor    33.333333\n",
       "virginica     33.333333\n",
       "Name: species, dtype: float64"
      ]
     },
     "execution_count": 47,
     "metadata": {},
     "output_type": "execute_result"
    }
   ],
   "source": [
    "df['species'].value_counts()/df['species'].size *100"
   ]
  },
  {
   "cell_type": "code",
   "execution_count": 48,
   "id": "1b21c450",
   "metadata": {},
   "outputs": [
    {
     "data": {
      "text/html": [
       "<div>\n",
       "<style scoped>\n",
       "    .dataframe tbody tr th:only-of-type {\n",
       "        vertical-align: middle;\n",
       "    }\n",
       "\n",
       "    .dataframe tbody tr th {\n",
       "        vertical-align: top;\n",
       "    }\n",
       "\n",
       "    .dataframe thead th {\n",
       "        text-align: right;\n",
       "    }\n",
       "</style>\n",
       "<table border=\"1\" class=\"dataframe\">\n",
       "  <thead>\n",
       "    <tr style=\"text-align: right;\">\n",
       "      <th></th>\n",
       "      <th>sepal_length</th>\n",
       "      <th>sepal_width</th>\n",
       "      <th>petal_length</th>\n",
       "      <th>petal_width</th>\n",
       "      <th>species</th>\n",
       "    </tr>\n",
       "  </thead>\n",
       "  <tbody>\n",
       "    <tr>\n",
       "      <th>0</th>\n",
       "      <td>5.1</td>\n",
       "      <td>3.5</td>\n",
       "      <td>1.4</td>\n",
       "      <td>0.2</td>\n",
       "      <td>setosa</td>\n",
       "    </tr>\n",
       "    <tr>\n",
       "      <th>1</th>\n",
       "      <td>4.9</td>\n",
       "      <td>3.0</td>\n",
       "      <td>1.4</td>\n",
       "      <td>0.2</td>\n",
       "      <td>setosa</td>\n",
       "    </tr>\n",
       "    <tr>\n",
       "      <th>2</th>\n",
       "      <td>4.7</td>\n",
       "      <td>3.2</td>\n",
       "      <td>1.3</td>\n",
       "      <td>0.2</td>\n",
       "      <td>setosa</td>\n",
       "    </tr>\n",
       "    <tr>\n",
       "      <th>3</th>\n",
       "      <td>4.6</td>\n",
       "      <td>3.1</td>\n",
       "      <td>1.5</td>\n",
       "      <td>0.2</td>\n",
       "      <td>setosa</td>\n",
       "    </tr>\n",
       "    <tr>\n",
       "      <th>4</th>\n",
       "      <td>5.0</td>\n",
       "      <td>3.6</td>\n",
       "      <td>1.4</td>\n",
       "      <td>0.2</td>\n",
       "      <td>setosa</td>\n",
       "    </tr>\n",
       "    <tr>\n",
       "      <th>...</th>\n",
       "      <td>...</td>\n",
       "      <td>...</td>\n",
       "      <td>...</td>\n",
       "      <td>...</td>\n",
       "      <td>...</td>\n",
       "    </tr>\n",
       "    <tr>\n",
       "      <th>145</th>\n",
       "      <td>6.7</td>\n",
       "      <td>3.0</td>\n",
       "      <td>5.2</td>\n",
       "      <td>2.3</td>\n",
       "      <td>virginica</td>\n",
       "    </tr>\n",
       "    <tr>\n",
       "      <th>146</th>\n",
       "      <td>6.3</td>\n",
       "      <td>2.5</td>\n",
       "      <td>5.0</td>\n",
       "      <td>1.9</td>\n",
       "      <td>virginica</td>\n",
       "    </tr>\n",
       "    <tr>\n",
       "      <th>147</th>\n",
       "      <td>6.5</td>\n",
       "      <td>3.0</td>\n",
       "      <td>5.2</td>\n",
       "      <td>2.0</td>\n",
       "      <td>virginica</td>\n",
       "    </tr>\n",
       "    <tr>\n",
       "      <th>148</th>\n",
       "      <td>6.2</td>\n",
       "      <td>3.4</td>\n",
       "      <td>5.4</td>\n",
       "      <td>2.3</td>\n",
       "      <td>virginica</td>\n",
       "    </tr>\n",
       "    <tr>\n",
       "      <th>149</th>\n",
       "      <td>5.9</td>\n",
       "      <td>3.0</td>\n",
       "      <td>5.1</td>\n",
       "      <td>1.8</td>\n",
       "      <td>virginica</td>\n",
       "    </tr>\n",
       "  </tbody>\n",
       "</table>\n",
       "<p>150 rows × 5 columns</p>\n",
       "</div>"
      ],
      "text/plain": [
       "     sepal_length  sepal_width  petal_length  petal_width    species\n",
       "0             5.1          3.5           1.4          0.2     setosa\n",
       "1             4.9          3.0           1.4          0.2     setosa\n",
       "2             4.7          3.2           1.3          0.2     setosa\n",
       "3             4.6          3.1           1.5          0.2     setosa\n",
       "4             5.0          3.6           1.4          0.2     setosa\n",
       "..            ...          ...           ...          ...        ...\n",
       "145           6.7          3.0           5.2          2.3  virginica\n",
       "146           6.3          2.5           5.0          1.9  virginica\n",
       "147           6.5          3.0           5.2          2.0  virginica\n",
       "148           6.2          3.4           5.4          2.3  virginica\n",
       "149           5.9          3.0           5.1          1.8  virginica\n",
       "\n",
       "[150 rows x 5 columns]"
      ]
     },
     "execution_count": 48,
     "metadata": {},
     "output_type": "execute_result"
    }
   ],
   "source": [
    "df"
   ]
  },
  {
   "cell_type": "code",
   "execution_count": 49,
   "id": "d7eaf948",
   "metadata": {},
   "outputs": [
    {
     "data": {
      "text/plain": [
       "'{\"0\":{\"sepal_length\":5.1,\"sepal_width\":3.5,\"petal_length\":1.4,\"petal_width\":0.2,\"species\":\"setosa\"},\"1\":{\"sepal_length\":4.9,\"sepal_width\":3.0,\"petal_length\":1.4,\"petal_width\":0.2,\"species\":\"setosa\"},\"2\":{\"sepal_length\":4.7,\"sepal_width\":3.2,\"petal_length\":1.3,\"petal_width\":0.2,\"species\":\"setosa\"},\"3\":{\"sepal_length\":4.6,\"sepal_width\":3.1,\"petal_length\":1.5,\"petal_width\":0.2,\"species\":\"setosa\"},\"4\":{\"sepal_length\":5.0,\"sepal_width\":3.6,\"petal_length\":1.4,\"petal_width\":0.2,\"species\":\"setosa\"},\"5\":{\"sepal_length\":5.4,\"sepal_width\":3.9,\"petal_length\":1.7,\"petal_width\":0.4,\"species\":\"setosa\"},\"6\":{\"sepal_length\":4.6,\"sepal_width\":3.4,\"petal_length\":1.4,\"petal_width\":0.3,\"species\":\"setosa\"},\"7\":{\"sepal_length\":5.0,\"sepal_width\":3.4,\"petal_length\":1.5,\"petal_width\":0.2,\"species\":\"setosa\"},\"8\":{\"sepal_length\":4.4,\"sepal_width\":2.9,\"petal_length\":1.4,\"petal_width\":0.2,\"species\":\"setosa\"},\"9\":{\"sepal_length\":4.9,\"sepal_width\":3.1,\"petal_length\":1.5,\"petal_width\":0.1,\"species\":\"setosa\"},\"10\":{\"sepal_length\":5.4,\"sepal_width\":3.7,\"petal_length\":1.5,\"petal_width\":0.2,\"species\":\"setosa\"},\"11\":{\"sepal_length\":4.8,\"sepal_width\":3.4,\"petal_length\":1.6,\"petal_width\":0.2,\"species\":\"setosa\"},\"12\":{\"sepal_length\":4.8,\"sepal_width\":3.0,\"petal_length\":1.4,\"petal_width\":0.1,\"species\":\"setosa\"},\"13\":{\"sepal_length\":4.3,\"sepal_width\":3.0,\"petal_length\":1.1,\"petal_width\":0.1,\"species\":\"setosa\"},\"14\":{\"sepal_length\":5.8,\"sepal_width\":4.0,\"petal_length\":1.2,\"petal_width\":0.2,\"species\":\"setosa\"},\"15\":{\"sepal_length\":5.7,\"sepal_width\":4.4,\"petal_length\":1.5,\"petal_width\":0.4,\"species\":\"setosa\"},\"16\":{\"sepal_length\":5.4,\"sepal_width\":3.9,\"petal_length\":1.3,\"petal_width\":0.4,\"species\":\"setosa\"},\"17\":{\"sepal_length\":5.1,\"sepal_width\":3.5,\"petal_length\":1.4,\"petal_width\":0.3,\"species\":\"setosa\"},\"18\":{\"sepal_length\":5.7,\"sepal_width\":3.8,\"petal_length\":1.7,\"petal_width\":0.3,\"species\":\"setosa\"},\"19\":{\"sepal_length\":5.1,\"sepal_width\":3.8,\"petal_length\":1.5,\"petal_width\":0.3,\"species\":\"setosa\"},\"20\":{\"sepal_length\":5.4,\"sepal_width\":3.4,\"petal_length\":1.7,\"petal_width\":0.2,\"species\":\"setosa\"},\"21\":{\"sepal_length\":5.1,\"sepal_width\":3.7,\"petal_length\":1.5,\"petal_width\":0.4,\"species\":\"setosa\"},\"22\":{\"sepal_length\":4.6,\"sepal_width\":3.6,\"petal_length\":1.0,\"petal_width\":0.2,\"species\":\"setosa\"},\"23\":{\"sepal_length\":5.1,\"sepal_width\":3.3,\"petal_length\":1.7,\"petal_width\":0.5,\"species\":\"setosa\"},\"24\":{\"sepal_length\":4.8,\"sepal_width\":3.4,\"petal_length\":1.9,\"petal_width\":0.2,\"species\":\"setosa\"},\"25\":{\"sepal_length\":5.0,\"sepal_width\":3.0,\"petal_length\":1.6,\"petal_width\":0.2,\"species\":\"setosa\"},\"26\":{\"sepal_length\":5.0,\"sepal_width\":3.4,\"petal_length\":1.6,\"petal_width\":0.4,\"species\":\"setosa\"},\"27\":{\"sepal_length\":5.2,\"sepal_width\":3.5,\"petal_length\":1.5,\"petal_width\":0.2,\"species\":\"setosa\"},\"28\":{\"sepal_length\":5.2,\"sepal_width\":3.4,\"petal_length\":1.4,\"petal_width\":0.2,\"species\":\"setosa\"},\"29\":{\"sepal_length\":4.7,\"sepal_width\":3.2,\"petal_length\":1.6,\"petal_width\":0.2,\"species\":\"setosa\"},\"30\":{\"sepal_length\":4.8,\"sepal_width\":3.1,\"petal_length\":1.6,\"petal_width\":0.2,\"species\":\"setosa\"},\"31\":{\"sepal_length\":5.4,\"sepal_width\":3.4,\"petal_length\":1.5,\"petal_width\":0.4,\"species\":\"setosa\"},\"32\":{\"sepal_length\":5.2,\"sepal_width\":4.1,\"petal_length\":1.5,\"petal_width\":0.1,\"species\":\"setosa\"},\"33\":{\"sepal_length\":5.5,\"sepal_width\":4.2,\"petal_length\":1.4,\"petal_width\":0.2,\"species\":\"setosa\"},\"34\":{\"sepal_length\":4.9,\"sepal_width\":3.1,\"petal_length\":1.5,\"petal_width\":0.2,\"species\":\"setosa\"},\"35\":{\"sepal_length\":5.0,\"sepal_width\":3.2,\"petal_length\":1.2,\"petal_width\":0.2,\"species\":\"setosa\"},\"36\":{\"sepal_length\":5.5,\"sepal_width\":3.5,\"petal_length\":1.3,\"petal_width\":0.2,\"species\":\"setosa\"},\"37\":{\"sepal_length\":4.9,\"sepal_width\":3.6,\"petal_length\":1.4,\"petal_width\":0.1,\"species\":\"setosa\"},\"38\":{\"sepal_length\":4.4,\"sepal_width\":3.0,\"petal_length\":1.3,\"petal_width\":0.2,\"species\":\"setosa\"},\"39\":{\"sepal_length\":5.1,\"sepal_width\":3.4,\"petal_length\":1.5,\"petal_width\":0.2,\"species\":\"setosa\"},\"40\":{\"sepal_length\":5.0,\"sepal_width\":3.5,\"petal_length\":1.3,\"petal_width\":0.3,\"species\":\"setosa\"},\"41\":{\"sepal_length\":4.5,\"sepal_width\":2.3,\"petal_length\":1.3,\"petal_width\":0.3,\"species\":\"setosa\"},\"42\":{\"sepal_length\":4.4,\"sepal_width\":3.2,\"petal_length\":1.3,\"petal_width\":0.2,\"species\":\"setosa\"},\"43\":{\"sepal_length\":5.0,\"sepal_width\":3.5,\"petal_length\":1.6,\"petal_width\":0.6,\"species\":\"setosa\"},\"44\":{\"sepal_length\":5.1,\"sepal_width\":3.8,\"petal_length\":1.9,\"petal_width\":0.4,\"species\":\"setosa\"},\"45\":{\"sepal_length\":4.8,\"sepal_width\":3.0,\"petal_length\":1.4,\"petal_width\":0.3,\"species\":\"setosa\"},\"46\":{\"sepal_length\":5.1,\"sepal_width\":3.8,\"petal_length\":1.6,\"petal_width\":0.2,\"species\":\"setosa\"},\"47\":{\"sepal_length\":4.6,\"sepal_width\":3.2,\"petal_length\":1.4,\"petal_width\":0.2,\"species\":\"setosa\"},\"48\":{\"sepal_length\":5.3,\"sepal_width\":3.7,\"petal_length\":1.5,\"petal_width\":0.2,\"species\":\"setosa\"},\"49\":{\"sepal_length\":5.0,\"sepal_width\":3.3,\"petal_length\":1.4,\"petal_width\":0.2,\"species\":\"setosa\"},\"50\":{\"sepal_length\":7.0,\"sepal_width\":3.2,\"petal_length\":4.7,\"petal_width\":1.4,\"species\":\"versicolor\"},\"51\":{\"sepal_length\":6.4,\"sepal_width\":3.2,\"petal_length\":4.5,\"petal_width\":1.5,\"species\":\"versicolor\"},\"52\":{\"sepal_length\":6.9,\"sepal_width\":3.1,\"petal_length\":4.9,\"petal_width\":1.5,\"species\":\"versicolor\"},\"53\":{\"sepal_length\":5.5,\"sepal_width\":2.3,\"petal_length\":4.0,\"petal_width\":1.3,\"species\":\"versicolor\"},\"54\":{\"sepal_length\":6.5,\"sepal_width\":2.8,\"petal_length\":4.6,\"petal_width\":1.5,\"species\":\"versicolor\"},\"55\":{\"sepal_length\":5.7,\"sepal_width\":2.8,\"petal_length\":4.5,\"petal_width\":1.3,\"species\":\"versicolor\"},\"56\":{\"sepal_length\":6.3,\"sepal_width\":3.3,\"petal_length\":4.7,\"petal_width\":1.6,\"species\":\"versicolor\"},\"57\":{\"sepal_length\":4.9,\"sepal_width\":2.4,\"petal_length\":3.3,\"petal_width\":1.0,\"species\":\"versicolor\"},\"58\":{\"sepal_length\":6.6,\"sepal_width\":2.9,\"petal_length\":4.6,\"petal_width\":1.3,\"species\":\"versicolor\"},\"59\":{\"sepal_length\":5.2,\"sepal_width\":2.7,\"petal_length\":3.9,\"petal_width\":1.4,\"species\":\"versicolor\"},\"60\":{\"sepal_length\":5.0,\"sepal_width\":2.0,\"petal_length\":3.5,\"petal_width\":1.0,\"species\":\"versicolor\"},\"61\":{\"sepal_length\":5.9,\"sepal_width\":3.0,\"petal_length\":4.2,\"petal_width\":1.5,\"species\":\"versicolor\"},\"62\":{\"sepal_length\":6.0,\"sepal_width\":2.2,\"petal_length\":4.0,\"petal_width\":1.0,\"species\":\"versicolor\"},\"63\":{\"sepal_length\":6.1,\"sepal_width\":2.9,\"petal_length\":4.7,\"petal_width\":1.4,\"species\":\"versicolor\"},\"64\":{\"sepal_length\":5.6,\"sepal_width\":2.9,\"petal_length\":3.6,\"petal_width\":1.3,\"species\":\"versicolor\"},\"65\":{\"sepal_length\":6.7,\"sepal_width\":3.1,\"petal_length\":4.4,\"petal_width\":1.4,\"species\":\"versicolor\"},\"66\":{\"sepal_length\":5.6,\"sepal_width\":3.0,\"petal_length\":4.5,\"petal_width\":1.5,\"species\":\"versicolor\"},\"67\":{\"sepal_length\":5.8,\"sepal_width\":2.7,\"petal_length\":4.1,\"petal_width\":1.0,\"species\":\"versicolor\"},\"68\":{\"sepal_length\":6.2,\"sepal_width\":2.2,\"petal_length\":4.5,\"petal_width\":1.5,\"species\":\"versicolor\"},\"69\":{\"sepal_length\":5.6,\"sepal_width\":2.5,\"petal_length\":3.9,\"petal_width\":1.1,\"species\":\"versicolor\"},\"70\":{\"sepal_length\":5.9,\"sepal_width\":3.2,\"petal_length\":4.8,\"petal_width\":1.8,\"species\":\"versicolor\"},\"71\":{\"sepal_length\":6.1,\"sepal_width\":2.8,\"petal_length\":4.0,\"petal_width\":1.3,\"species\":\"versicolor\"},\"72\":{\"sepal_length\":6.3,\"sepal_width\":2.5,\"petal_length\":4.9,\"petal_width\":1.5,\"species\":\"versicolor\"},\"73\":{\"sepal_length\":6.1,\"sepal_width\":2.8,\"petal_length\":4.7,\"petal_width\":1.2,\"species\":\"versicolor\"},\"74\":{\"sepal_length\":6.4,\"sepal_width\":2.9,\"petal_length\":4.3,\"petal_width\":1.3,\"species\":\"versicolor\"},\"75\":{\"sepal_length\":6.6,\"sepal_width\":3.0,\"petal_length\":4.4,\"petal_width\":1.4,\"species\":\"versicolor\"},\"76\":{\"sepal_length\":6.8,\"sepal_width\":2.8,\"petal_length\":4.8,\"petal_width\":1.4,\"species\":\"versicolor\"},\"77\":{\"sepal_length\":6.7,\"sepal_width\":3.0,\"petal_length\":5.0,\"petal_width\":1.7,\"species\":\"versicolor\"},\"78\":{\"sepal_length\":6.0,\"sepal_width\":2.9,\"petal_length\":4.5,\"petal_width\":1.5,\"species\":\"versicolor\"},\"79\":{\"sepal_length\":5.7,\"sepal_width\":2.6,\"petal_length\":3.5,\"petal_width\":1.0,\"species\":\"versicolor\"},\"80\":{\"sepal_length\":5.5,\"sepal_width\":2.4,\"petal_length\":3.8,\"petal_width\":1.1,\"species\":\"versicolor\"},\"81\":{\"sepal_length\":5.5,\"sepal_width\":2.4,\"petal_length\":3.7,\"petal_width\":1.0,\"species\":\"versicolor\"},\"82\":{\"sepal_length\":5.8,\"sepal_width\":2.7,\"petal_length\":3.9,\"petal_width\":1.2,\"species\":\"versicolor\"},\"83\":{\"sepal_length\":6.0,\"sepal_width\":2.7,\"petal_length\":5.1,\"petal_width\":1.6,\"species\":\"versicolor\"},\"84\":{\"sepal_length\":5.4,\"sepal_width\":3.0,\"petal_length\":4.5,\"petal_width\":1.5,\"species\":\"versicolor\"},\"85\":{\"sepal_length\":6.0,\"sepal_width\":3.4,\"petal_length\":4.5,\"petal_width\":1.6,\"species\":\"versicolor\"},\"86\":{\"sepal_length\":6.7,\"sepal_width\":3.1,\"petal_length\":4.7,\"petal_width\":1.5,\"species\":\"versicolor\"},\"87\":{\"sepal_length\":6.3,\"sepal_width\":2.3,\"petal_length\":4.4,\"petal_width\":1.3,\"species\":\"versicolor\"},\"88\":{\"sepal_length\":5.6,\"sepal_width\":3.0,\"petal_length\":4.1,\"petal_width\":1.3,\"species\":\"versicolor\"},\"89\":{\"sepal_length\":5.5,\"sepal_width\":2.5,\"petal_length\":4.0,\"petal_width\":1.3,\"species\":\"versicolor\"},\"90\":{\"sepal_length\":5.5,\"sepal_width\":2.6,\"petal_length\":4.4,\"petal_width\":1.2,\"species\":\"versicolor\"},\"91\":{\"sepal_length\":6.1,\"sepal_width\":3.0,\"petal_length\":4.6,\"petal_width\":1.4,\"species\":\"versicolor\"},\"92\":{\"sepal_length\":5.8,\"sepal_width\":2.6,\"petal_length\":4.0,\"petal_width\":1.2,\"species\":\"versicolor\"},\"93\":{\"sepal_length\":5.0,\"sepal_width\":2.3,\"petal_length\":3.3,\"petal_width\":1.0,\"species\":\"versicolor\"},\"94\":{\"sepal_length\":5.6,\"sepal_width\":2.7,\"petal_length\":4.2,\"petal_width\":1.3,\"species\":\"versicolor\"},\"95\":{\"sepal_length\":5.7,\"sepal_width\":3.0,\"petal_length\":4.2,\"petal_width\":1.2,\"species\":\"versicolor\"},\"96\":{\"sepal_length\":5.7,\"sepal_width\":2.9,\"petal_length\":4.2,\"petal_width\":1.3,\"species\":\"versicolor\"},\"97\":{\"sepal_length\":6.2,\"sepal_width\":2.9,\"petal_length\":4.3,\"petal_width\":1.3,\"species\":\"versicolor\"},\"98\":{\"sepal_length\":5.1,\"sepal_width\":2.5,\"petal_length\":3.0,\"petal_width\":1.1,\"species\":\"versicolor\"},\"99\":{\"sepal_length\":5.7,\"sepal_width\":2.8,\"petal_length\":4.1,\"petal_width\":1.3,\"species\":\"versicolor\"},\"100\":{\"sepal_length\":6.3,\"sepal_width\":3.3,\"petal_length\":6.0,\"petal_width\":2.5,\"species\":\"virginica\"},\"101\":{\"sepal_length\":5.8,\"sepal_width\":2.7,\"petal_length\":5.1,\"petal_width\":1.9,\"species\":\"virginica\"},\"102\":{\"sepal_length\":7.1,\"sepal_width\":3.0,\"petal_length\":5.9,\"petal_width\":2.1,\"species\":\"virginica\"},\"103\":{\"sepal_length\":6.3,\"sepal_width\":2.9,\"petal_length\":5.6,\"petal_width\":1.8,\"species\":\"virginica\"},\"104\":{\"sepal_length\":6.5,\"sepal_width\":3.0,\"petal_length\":5.8,\"petal_width\":2.2,\"species\":\"virginica\"},\"105\":{\"sepal_length\":7.6,\"sepal_width\":3.0,\"petal_length\":6.6,\"petal_width\":2.1,\"species\":\"virginica\"},\"106\":{\"sepal_length\":4.9,\"sepal_width\":2.5,\"petal_length\":4.5,\"petal_width\":1.7,\"species\":\"virginica\"},\"107\":{\"sepal_length\":7.3,\"sepal_width\":2.9,\"petal_length\":6.3,\"petal_width\":1.8,\"species\":\"virginica\"},\"108\":{\"sepal_length\":6.7,\"sepal_width\":2.5,\"petal_length\":5.8,\"petal_width\":1.8,\"species\":\"virginica\"},\"109\":{\"sepal_length\":7.2,\"sepal_width\":3.6,\"petal_length\":6.1,\"petal_width\":2.5,\"species\":\"virginica\"},\"110\":{\"sepal_length\":6.5,\"sepal_width\":3.2,\"petal_length\":5.1,\"petal_width\":2.0,\"species\":\"virginica\"},\"111\":{\"sepal_length\":6.4,\"sepal_width\":2.7,\"petal_length\":5.3,\"petal_width\":1.9,\"species\":\"virginica\"},\"112\":{\"sepal_length\":6.8,\"sepal_width\":3.0,\"petal_length\":5.5,\"petal_width\":2.1,\"species\":\"virginica\"},\"113\":{\"sepal_length\":5.7,\"sepal_width\":2.5,\"petal_length\":5.0,\"petal_width\":2.0,\"species\":\"virginica\"},\"114\":{\"sepal_length\":5.8,\"sepal_width\":2.8,\"petal_length\":5.1,\"petal_width\":2.4,\"species\":\"virginica\"},\"115\":{\"sepal_length\":6.4,\"sepal_width\":3.2,\"petal_length\":5.3,\"petal_width\":2.3,\"species\":\"virginica\"},\"116\":{\"sepal_length\":6.5,\"sepal_width\":3.0,\"petal_length\":5.5,\"petal_width\":1.8,\"species\":\"virginica\"},\"117\":{\"sepal_length\":7.7,\"sepal_width\":3.8,\"petal_length\":6.7,\"petal_width\":2.2,\"species\":\"virginica\"},\"118\":{\"sepal_length\":7.7,\"sepal_width\":2.6,\"petal_length\":6.9,\"petal_width\":2.3,\"species\":\"virginica\"},\"119\":{\"sepal_length\":6.0,\"sepal_width\":2.2,\"petal_length\":5.0,\"petal_width\":1.5,\"species\":\"virginica\"},\"120\":{\"sepal_length\":6.9,\"sepal_width\":3.2,\"petal_length\":5.7,\"petal_width\":2.3,\"species\":\"virginica\"},\"121\":{\"sepal_length\":5.6,\"sepal_width\":2.8,\"petal_length\":4.9,\"petal_width\":2.0,\"species\":\"virginica\"},\"122\":{\"sepal_length\":7.7,\"sepal_width\":2.8,\"petal_length\":6.7,\"petal_width\":2.0,\"species\":\"virginica\"},\"123\":{\"sepal_length\":6.3,\"sepal_width\":2.7,\"petal_length\":4.9,\"petal_width\":1.8,\"species\":\"virginica\"},\"124\":{\"sepal_length\":6.7,\"sepal_width\":3.3,\"petal_length\":5.7,\"petal_width\":2.1,\"species\":\"virginica\"},\"125\":{\"sepal_length\":7.2,\"sepal_width\":3.2,\"petal_length\":6.0,\"petal_width\":1.8,\"species\":\"virginica\"},\"126\":{\"sepal_length\":6.2,\"sepal_width\":2.8,\"petal_length\":4.8,\"petal_width\":1.8,\"species\":\"virginica\"},\"127\":{\"sepal_length\":6.1,\"sepal_width\":3.0,\"petal_length\":4.9,\"petal_width\":1.8,\"species\":\"virginica\"},\"128\":{\"sepal_length\":6.4,\"sepal_width\":2.8,\"petal_length\":5.6,\"petal_width\":2.1,\"species\":\"virginica\"},\"129\":{\"sepal_length\":7.2,\"sepal_width\":3.0,\"petal_length\":5.8,\"petal_width\":1.6,\"species\":\"virginica\"},\"130\":{\"sepal_length\":7.4,\"sepal_width\":2.8,\"petal_length\":6.1,\"petal_width\":1.9,\"species\":\"virginica\"},\"131\":{\"sepal_length\":7.9,\"sepal_width\":3.8,\"petal_length\":6.4,\"petal_width\":2.0,\"species\":\"virginica\"},\"132\":{\"sepal_length\":6.4,\"sepal_width\":2.8,\"petal_length\":5.6,\"petal_width\":2.2,\"species\":\"virginica\"},\"133\":{\"sepal_length\":6.3,\"sepal_width\":2.8,\"petal_length\":5.1,\"petal_width\":1.5,\"species\":\"virginica\"},\"134\":{\"sepal_length\":6.1,\"sepal_width\":2.6,\"petal_length\":5.6,\"petal_width\":1.4,\"species\":\"virginica\"},\"135\":{\"sepal_length\":7.7,\"sepal_width\":3.0,\"petal_length\":6.1,\"petal_width\":2.3,\"species\":\"virginica\"},\"136\":{\"sepal_length\":6.3,\"sepal_width\":3.4,\"petal_length\":5.6,\"petal_width\":2.4,\"species\":\"virginica\"},\"137\":{\"sepal_length\":6.4,\"sepal_width\":3.1,\"petal_length\":5.5,\"petal_width\":1.8,\"species\":\"virginica\"},\"138\":{\"sepal_length\":6.0,\"sepal_width\":3.0,\"petal_length\":4.8,\"petal_width\":1.8,\"species\":\"virginica\"},\"139\":{\"sepal_length\":6.9,\"sepal_width\":3.1,\"petal_length\":5.4,\"petal_width\":2.1,\"species\":\"virginica\"},\"140\":{\"sepal_length\":6.7,\"sepal_width\":3.1,\"petal_length\":5.6,\"petal_width\":2.4,\"species\":\"virginica\"},\"141\":{\"sepal_length\":6.9,\"sepal_width\":3.1,\"petal_length\":5.1,\"petal_width\":2.3,\"species\":\"virginica\"},\"142\":{\"sepal_length\":5.8,\"sepal_width\":2.7,\"petal_length\":5.1,\"petal_width\":1.9,\"species\":\"virginica\"},\"143\":{\"sepal_length\":6.8,\"sepal_width\":3.2,\"petal_length\":5.9,\"petal_width\":2.3,\"species\":\"virginica\"},\"144\":{\"sepal_length\":6.7,\"sepal_width\":3.3,\"petal_length\":5.7,\"petal_width\":2.5,\"species\":\"virginica\"},\"145\":{\"sepal_length\":6.7,\"sepal_width\":3.0,\"petal_length\":5.2,\"petal_width\":2.3,\"species\":\"virginica\"},\"146\":{\"sepal_length\":6.3,\"sepal_width\":2.5,\"petal_length\":5.0,\"petal_width\":1.9,\"species\":\"virginica\"},\"147\":{\"sepal_length\":6.5,\"sepal_width\":3.0,\"petal_length\":5.2,\"petal_width\":2.0,\"species\":\"virginica\"},\"148\":{\"sepal_length\":6.2,\"sepal_width\":3.4,\"petal_length\":5.4,\"petal_width\":2.3,\"species\":\"virginica\"},\"149\":{\"sepal_length\":5.9,\"sepal_width\":3.0,\"petal_length\":5.1,\"petal_width\":1.8,\"species\":\"virginica\"}}'"
      ]
     },
     "execution_count": 49,
     "metadata": {},
     "output_type": "execute_result"
    }
   ],
   "source": [
    "df.to_json(orient='index')"
   ]
  },
  {
   "cell_type": "code",
   "execution_count": 50,
   "id": "9d04bcc8",
   "metadata": {},
   "outputs": [
    {
     "data": {
      "text/plain": [
       "'{\"sepal_length\":{\"0\":5.1,\"1\":4.9,\"2\":4.7,\"3\":4.6,\"4\":5.0,\"5\":5.4,\"6\":4.6,\"7\":5.0,\"8\":4.4,\"9\":4.9,\"10\":5.4,\"11\":4.8,\"12\":4.8,\"13\":4.3,\"14\":5.8,\"15\":5.7,\"16\":5.4,\"17\":5.1,\"18\":5.7,\"19\":5.1,\"20\":5.4,\"21\":5.1,\"22\":4.6,\"23\":5.1,\"24\":4.8,\"25\":5.0,\"26\":5.0,\"27\":5.2,\"28\":5.2,\"29\":4.7,\"30\":4.8,\"31\":5.4,\"32\":5.2,\"33\":5.5,\"34\":4.9,\"35\":5.0,\"36\":5.5,\"37\":4.9,\"38\":4.4,\"39\":5.1,\"40\":5.0,\"41\":4.5,\"42\":4.4,\"43\":5.0,\"44\":5.1,\"45\":4.8,\"46\":5.1,\"47\":4.6,\"48\":5.3,\"49\":5.0,\"50\":7.0,\"51\":6.4,\"52\":6.9,\"53\":5.5,\"54\":6.5,\"55\":5.7,\"56\":6.3,\"57\":4.9,\"58\":6.6,\"59\":5.2,\"60\":5.0,\"61\":5.9,\"62\":6.0,\"63\":6.1,\"64\":5.6,\"65\":6.7,\"66\":5.6,\"67\":5.8,\"68\":6.2,\"69\":5.6,\"70\":5.9,\"71\":6.1,\"72\":6.3,\"73\":6.1,\"74\":6.4,\"75\":6.6,\"76\":6.8,\"77\":6.7,\"78\":6.0,\"79\":5.7,\"80\":5.5,\"81\":5.5,\"82\":5.8,\"83\":6.0,\"84\":5.4,\"85\":6.0,\"86\":6.7,\"87\":6.3,\"88\":5.6,\"89\":5.5,\"90\":5.5,\"91\":6.1,\"92\":5.8,\"93\":5.0,\"94\":5.6,\"95\":5.7,\"96\":5.7,\"97\":6.2,\"98\":5.1,\"99\":5.7,\"100\":6.3,\"101\":5.8,\"102\":7.1,\"103\":6.3,\"104\":6.5,\"105\":7.6,\"106\":4.9,\"107\":7.3,\"108\":6.7,\"109\":7.2,\"110\":6.5,\"111\":6.4,\"112\":6.8,\"113\":5.7,\"114\":5.8,\"115\":6.4,\"116\":6.5,\"117\":7.7,\"118\":7.7,\"119\":6.0,\"120\":6.9,\"121\":5.6,\"122\":7.7,\"123\":6.3,\"124\":6.7,\"125\":7.2,\"126\":6.2,\"127\":6.1,\"128\":6.4,\"129\":7.2,\"130\":7.4,\"131\":7.9,\"132\":6.4,\"133\":6.3,\"134\":6.1,\"135\":7.7,\"136\":6.3,\"137\":6.4,\"138\":6.0,\"139\":6.9,\"140\":6.7,\"141\":6.9,\"142\":5.8,\"143\":6.8,\"144\":6.7,\"145\":6.7,\"146\":6.3,\"147\":6.5,\"148\":6.2,\"149\":5.9},\"sepal_width\":{\"0\":3.5,\"1\":3.0,\"2\":3.2,\"3\":3.1,\"4\":3.6,\"5\":3.9,\"6\":3.4,\"7\":3.4,\"8\":2.9,\"9\":3.1,\"10\":3.7,\"11\":3.4,\"12\":3.0,\"13\":3.0,\"14\":4.0,\"15\":4.4,\"16\":3.9,\"17\":3.5,\"18\":3.8,\"19\":3.8,\"20\":3.4,\"21\":3.7,\"22\":3.6,\"23\":3.3,\"24\":3.4,\"25\":3.0,\"26\":3.4,\"27\":3.5,\"28\":3.4,\"29\":3.2,\"30\":3.1,\"31\":3.4,\"32\":4.1,\"33\":4.2,\"34\":3.1,\"35\":3.2,\"36\":3.5,\"37\":3.6,\"38\":3.0,\"39\":3.4,\"40\":3.5,\"41\":2.3,\"42\":3.2,\"43\":3.5,\"44\":3.8,\"45\":3.0,\"46\":3.8,\"47\":3.2,\"48\":3.7,\"49\":3.3,\"50\":3.2,\"51\":3.2,\"52\":3.1,\"53\":2.3,\"54\":2.8,\"55\":2.8,\"56\":3.3,\"57\":2.4,\"58\":2.9,\"59\":2.7,\"60\":2.0,\"61\":3.0,\"62\":2.2,\"63\":2.9,\"64\":2.9,\"65\":3.1,\"66\":3.0,\"67\":2.7,\"68\":2.2,\"69\":2.5,\"70\":3.2,\"71\":2.8,\"72\":2.5,\"73\":2.8,\"74\":2.9,\"75\":3.0,\"76\":2.8,\"77\":3.0,\"78\":2.9,\"79\":2.6,\"80\":2.4,\"81\":2.4,\"82\":2.7,\"83\":2.7,\"84\":3.0,\"85\":3.4,\"86\":3.1,\"87\":2.3,\"88\":3.0,\"89\":2.5,\"90\":2.6,\"91\":3.0,\"92\":2.6,\"93\":2.3,\"94\":2.7,\"95\":3.0,\"96\":2.9,\"97\":2.9,\"98\":2.5,\"99\":2.8,\"100\":3.3,\"101\":2.7,\"102\":3.0,\"103\":2.9,\"104\":3.0,\"105\":3.0,\"106\":2.5,\"107\":2.9,\"108\":2.5,\"109\":3.6,\"110\":3.2,\"111\":2.7,\"112\":3.0,\"113\":2.5,\"114\":2.8,\"115\":3.2,\"116\":3.0,\"117\":3.8,\"118\":2.6,\"119\":2.2,\"120\":3.2,\"121\":2.8,\"122\":2.8,\"123\":2.7,\"124\":3.3,\"125\":3.2,\"126\":2.8,\"127\":3.0,\"128\":2.8,\"129\":3.0,\"130\":2.8,\"131\":3.8,\"132\":2.8,\"133\":2.8,\"134\":2.6,\"135\":3.0,\"136\":3.4,\"137\":3.1,\"138\":3.0,\"139\":3.1,\"140\":3.1,\"141\":3.1,\"142\":2.7,\"143\":3.2,\"144\":3.3,\"145\":3.0,\"146\":2.5,\"147\":3.0,\"148\":3.4,\"149\":3.0},\"petal_length\":{\"0\":1.4,\"1\":1.4,\"2\":1.3,\"3\":1.5,\"4\":1.4,\"5\":1.7,\"6\":1.4,\"7\":1.5,\"8\":1.4,\"9\":1.5,\"10\":1.5,\"11\":1.6,\"12\":1.4,\"13\":1.1,\"14\":1.2,\"15\":1.5,\"16\":1.3,\"17\":1.4,\"18\":1.7,\"19\":1.5,\"20\":1.7,\"21\":1.5,\"22\":1.0,\"23\":1.7,\"24\":1.9,\"25\":1.6,\"26\":1.6,\"27\":1.5,\"28\":1.4,\"29\":1.6,\"30\":1.6,\"31\":1.5,\"32\":1.5,\"33\":1.4,\"34\":1.5,\"35\":1.2,\"36\":1.3,\"37\":1.4,\"38\":1.3,\"39\":1.5,\"40\":1.3,\"41\":1.3,\"42\":1.3,\"43\":1.6,\"44\":1.9,\"45\":1.4,\"46\":1.6,\"47\":1.4,\"48\":1.5,\"49\":1.4,\"50\":4.7,\"51\":4.5,\"52\":4.9,\"53\":4.0,\"54\":4.6,\"55\":4.5,\"56\":4.7,\"57\":3.3,\"58\":4.6,\"59\":3.9,\"60\":3.5,\"61\":4.2,\"62\":4.0,\"63\":4.7,\"64\":3.6,\"65\":4.4,\"66\":4.5,\"67\":4.1,\"68\":4.5,\"69\":3.9,\"70\":4.8,\"71\":4.0,\"72\":4.9,\"73\":4.7,\"74\":4.3,\"75\":4.4,\"76\":4.8,\"77\":5.0,\"78\":4.5,\"79\":3.5,\"80\":3.8,\"81\":3.7,\"82\":3.9,\"83\":5.1,\"84\":4.5,\"85\":4.5,\"86\":4.7,\"87\":4.4,\"88\":4.1,\"89\":4.0,\"90\":4.4,\"91\":4.6,\"92\":4.0,\"93\":3.3,\"94\":4.2,\"95\":4.2,\"96\":4.2,\"97\":4.3,\"98\":3.0,\"99\":4.1,\"100\":6.0,\"101\":5.1,\"102\":5.9,\"103\":5.6,\"104\":5.8,\"105\":6.6,\"106\":4.5,\"107\":6.3,\"108\":5.8,\"109\":6.1,\"110\":5.1,\"111\":5.3,\"112\":5.5,\"113\":5.0,\"114\":5.1,\"115\":5.3,\"116\":5.5,\"117\":6.7,\"118\":6.9,\"119\":5.0,\"120\":5.7,\"121\":4.9,\"122\":6.7,\"123\":4.9,\"124\":5.7,\"125\":6.0,\"126\":4.8,\"127\":4.9,\"128\":5.6,\"129\":5.8,\"130\":6.1,\"131\":6.4,\"132\":5.6,\"133\":5.1,\"134\":5.6,\"135\":6.1,\"136\":5.6,\"137\":5.5,\"138\":4.8,\"139\":5.4,\"140\":5.6,\"141\":5.1,\"142\":5.1,\"143\":5.9,\"144\":5.7,\"145\":5.2,\"146\":5.0,\"147\":5.2,\"148\":5.4,\"149\":5.1},\"petal_width\":{\"0\":0.2,\"1\":0.2,\"2\":0.2,\"3\":0.2,\"4\":0.2,\"5\":0.4,\"6\":0.3,\"7\":0.2,\"8\":0.2,\"9\":0.1,\"10\":0.2,\"11\":0.2,\"12\":0.1,\"13\":0.1,\"14\":0.2,\"15\":0.4,\"16\":0.4,\"17\":0.3,\"18\":0.3,\"19\":0.3,\"20\":0.2,\"21\":0.4,\"22\":0.2,\"23\":0.5,\"24\":0.2,\"25\":0.2,\"26\":0.4,\"27\":0.2,\"28\":0.2,\"29\":0.2,\"30\":0.2,\"31\":0.4,\"32\":0.1,\"33\":0.2,\"34\":0.2,\"35\":0.2,\"36\":0.2,\"37\":0.1,\"38\":0.2,\"39\":0.2,\"40\":0.3,\"41\":0.3,\"42\":0.2,\"43\":0.6,\"44\":0.4,\"45\":0.3,\"46\":0.2,\"47\":0.2,\"48\":0.2,\"49\":0.2,\"50\":1.4,\"51\":1.5,\"52\":1.5,\"53\":1.3,\"54\":1.5,\"55\":1.3,\"56\":1.6,\"57\":1.0,\"58\":1.3,\"59\":1.4,\"60\":1.0,\"61\":1.5,\"62\":1.0,\"63\":1.4,\"64\":1.3,\"65\":1.4,\"66\":1.5,\"67\":1.0,\"68\":1.5,\"69\":1.1,\"70\":1.8,\"71\":1.3,\"72\":1.5,\"73\":1.2,\"74\":1.3,\"75\":1.4,\"76\":1.4,\"77\":1.7,\"78\":1.5,\"79\":1.0,\"80\":1.1,\"81\":1.0,\"82\":1.2,\"83\":1.6,\"84\":1.5,\"85\":1.6,\"86\":1.5,\"87\":1.3,\"88\":1.3,\"89\":1.3,\"90\":1.2,\"91\":1.4,\"92\":1.2,\"93\":1.0,\"94\":1.3,\"95\":1.2,\"96\":1.3,\"97\":1.3,\"98\":1.1,\"99\":1.3,\"100\":2.5,\"101\":1.9,\"102\":2.1,\"103\":1.8,\"104\":2.2,\"105\":2.1,\"106\":1.7,\"107\":1.8,\"108\":1.8,\"109\":2.5,\"110\":2.0,\"111\":1.9,\"112\":2.1,\"113\":2.0,\"114\":2.4,\"115\":2.3,\"116\":1.8,\"117\":2.2,\"118\":2.3,\"119\":1.5,\"120\":2.3,\"121\":2.0,\"122\":2.0,\"123\":1.8,\"124\":2.1,\"125\":1.8,\"126\":1.8,\"127\":1.8,\"128\":2.1,\"129\":1.6,\"130\":1.9,\"131\":2.0,\"132\":2.2,\"133\":1.5,\"134\":1.4,\"135\":2.3,\"136\":2.4,\"137\":1.8,\"138\":1.8,\"139\":2.1,\"140\":2.4,\"141\":2.3,\"142\":1.9,\"143\":2.3,\"144\":2.5,\"145\":2.3,\"146\":1.9,\"147\":2.0,\"148\":2.3,\"149\":1.8},\"species\":{\"0\":\"setosa\",\"1\":\"setosa\",\"2\":\"setosa\",\"3\":\"setosa\",\"4\":\"setosa\",\"5\":\"setosa\",\"6\":\"setosa\",\"7\":\"setosa\",\"8\":\"setosa\",\"9\":\"setosa\",\"10\":\"setosa\",\"11\":\"setosa\",\"12\":\"setosa\",\"13\":\"setosa\",\"14\":\"setosa\",\"15\":\"setosa\",\"16\":\"setosa\",\"17\":\"setosa\",\"18\":\"setosa\",\"19\":\"setosa\",\"20\":\"setosa\",\"21\":\"setosa\",\"22\":\"setosa\",\"23\":\"setosa\",\"24\":\"setosa\",\"25\":\"setosa\",\"26\":\"setosa\",\"27\":\"setosa\",\"28\":\"setosa\",\"29\":\"setosa\",\"30\":\"setosa\",\"31\":\"setosa\",\"32\":\"setosa\",\"33\":\"setosa\",\"34\":\"setosa\",\"35\":\"setosa\",\"36\":\"setosa\",\"37\":\"setosa\",\"38\":\"setosa\",\"39\":\"setosa\",\"40\":\"setosa\",\"41\":\"setosa\",\"42\":\"setosa\",\"43\":\"setosa\",\"44\":\"setosa\",\"45\":\"setosa\",\"46\":\"setosa\",\"47\":\"setosa\",\"48\":\"setosa\",\"49\":\"setosa\",\"50\":\"versicolor\",\"51\":\"versicolor\",\"52\":\"versicolor\",\"53\":\"versicolor\",\"54\":\"versicolor\",\"55\":\"versicolor\",\"56\":\"versicolor\",\"57\":\"versicolor\",\"58\":\"versicolor\",\"59\":\"versicolor\",\"60\":\"versicolor\",\"61\":\"versicolor\",\"62\":\"versicolor\",\"63\":\"versicolor\",\"64\":\"versicolor\",\"65\":\"versicolor\",\"66\":\"versicolor\",\"67\":\"versicolor\",\"68\":\"versicolor\",\"69\":\"versicolor\",\"70\":\"versicolor\",\"71\":\"versicolor\",\"72\":\"versicolor\",\"73\":\"versicolor\",\"74\":\"versicolor\",\"75\":\"versicolor\",\"76\":\"versicolor\",\"77\":\"versicolor\",\"78\":\"versicolor\",\"79\":\"versicolor\",\"80\":\"versicolor\",\"81\":\"versicolor\",\"82\":\"versicolor\",\"83\":\"versicolor\",\"84\":\"versicolor\",\"85\":\"versicolor\",\"86\":\"versicolor\",\"87\":\"versicolor\",\"88\":\"versicolor\",\"89\":\"versicolor\",\"90\":\"versicolor\",\"91\":\"versicolor\",\"92\":\"versicolor\",\"93\":\"versicolor\",\"94\":\"versicolor\",\"95\":\"versicolor\",\"96\":\"versicolor\",\"97\":\"versicolor\",\"98\":\"versicolor\",\"99\":\"versicolor\",\"100\":\"virginica\",\"101\":\"virginica\",\"102\":\"virginica\",\"103\":\"virginica\",\"104\":\"virginica\",\"105\":\"virginica\",\"106\":\"virginica\",\"107\":\"virginica\",\"108\":\"virginica\",\"109\":\"virginica\",\"110\":\"virginica\",\"111\":\"virginica\",\"112\":\"virginica\",\"113\":\"virginica\",\"114\":\"virginica\",\"115\":\"virginica\",\"116\":\"virginica\",\"117\":\"virginica\",\"118\":\"virginica\",\"119\":\"virginica\",\"120\":\"virginica\",\"121\":\"virginica\",\"122\":\"virginica\",\"123\":\"virginica\",\"124\":\"virginica\",\"125\":\"virginica\",\"126\":\"virginica\",\"127\":\"virginica\",\"128\":\"virginica\",\"129\":\"virginica\",\"130\":\"virginica\",\"131\":\"virginica\",\"132\":\"virginica\",\"133\":\"virginica\",\"134\":\"virginica\",\"135\":\"virginica\",\"136\":\"virginica\",\"137\":\"virginica\",\"138\":\"virginica\",\"139\":\"virginica\",\"140\":\"virginica\",\"141\":\"virginica\",\"142\":\"virginica\",\"143\":\"virginica\",\"144\":\"virginica\",\"145\":\"virginica\",\"146\":\"virginica\",\"147\":\"virginica\",\"148\":\"virginica\",\"149\":\"virginica\"}}'"
      ]
     },
     "execution_count": 50,
     "metadata": {},
     "output_type": "execute_result"
    }
   ],
   "source": [
    "df.to_json(orient='columns')"
   ]
  },
  {
   "cell_type": "code",
   "execution_count": 51,
   "id": "c9b4f8c4",
   "metadata": {},
   "outputs": [
    {
     "data": {
      "text/plain": [
       "'[{\"sepal_length\":5.1,\"sepal_width\":3.5,\"petal_length\":1.4,\"petal_width\":0.2,\"species\":\"setosa\"},{\"sepal_length\":4.9,\"sepal_width\":3.0,\"petal_length\":1.4,\"petal_width\":0.2,\"species\":\"setosa\"},{\"sepal_length\":4.7,\"sepal_width\":3.2,\"petal_length\":1.3,\"petal_width\":0.2,\"species\":\"setosa\"},{\"sepal_length\":4.6,\"sepal_width\":3.1,\"petal_length\":1.5,\"petal_width\":0.2,\"species\":\"setosa\"},{\"sepal_length\":5.0,\"sepal_width\":3.6,\"petal_length\":1.4,\"petal_width\":0.2,\"species\":\"setosa\"},{\"sepal_length\":5.4,\"sepal_width\":3.9,\"petal_length\":1.7,\"petal_width\":0.4,\"species\":\"setosa\"},{\"sepal_length\":4.6,\"sepal_width\":3.4,\"petal_length\":1.4,\"petal_width\":0.3,\"species\":\"setosa\"},{\"sepal_length\":5.0,\"sepal_width\":3.4,\"petal_length\":1.5,\"petal_width\":0.2,\"species\":\"setosa\"},{\"sepal_length\":4.4,\"sepal_width\":2.9,\"petal_length\":1.4,\"petal_width\":0.2,\"species\":\"setosa\"},{\"sepal_length\":4.9,\"sepal_width\":3.1,\"petal_length\":1.5,\"petal_width\":0.1,\"species\":\"setosa\"},{\"sepal_length\":5.4,\"sepal_width\":3.7,\"petal_length\":1.5,\"petal_width\":0.2,\"species\":\"setosa\"},{\"sepal_length\":4.8,\"sepal_width\":3.4,\"petal_length\":1.6,\"petal_width\":0.2,\"species\":\"setosa\"},{\"sepal_length\":4.8,\"sepal_width\":3.0,\"petal_length\":1.4,\"petal_width\":0.1,\"species\":\"setosa\"},{\"sepal_length\":4.3,\"sepal_width\":3.0,\"petal_length\":1.1,\"petal_width\":0.1,\"species\":\"setosa\"},{\"sepal_length\":5.8,\"sepal_width\":4.0,\"petal_length\":1.2,\"petal_width\":0.2,\"species\":\"setosa\"},{\"sepal_length\":5.7,\"sepal_width\":4.4,\"petal_length\":1.5,\"petal_width\":0.4,\"species\":\"setosa\"},{\"sepal_length\":5.4,\"sepal_width\":3.9,\"petal_length\":1.3,\"petal_width\":0.4,\"species\":\"setosa\"},{\"sepal_length\":5.1,\"sepal_width\":3.5,\"petal_length\":1.4,\"petal_width\":0.3,\"species\":\"setosa\"},{\"sepal_length\":5.7,\"sepal_width\":3.8,\"petal_length\":1.7,\"petal_width\":0.3,\"species\":\"setosa\"},{\"sepal_length\":5.1,\"sepal_width\":3.8,\"petal_length\":1.5,\"petal_width\":0.3,\"species\":\"setosa\"},{\"sepal_length\":5.4,\"sepal_width\":3.4,\"petal_length\":1.7,\"petal_width\":0.2,\"species\":\"setosa\"},{\"sepal_length\":5.1,\"sepal_width\":3.7,\"petal_length\":1.5,\"petal_width\":0.4,\"species\":\"setosa\"},{\"sepal_length\":4.6,\"sepal_width\":3.6,\"petal_length\":1.0,\"petal_width\":0.2,\"species\":\"setosa\"},{\"sepal_length\":5.1,\"sepal_width\":3.3,\"petal_length\":1.7,\"petal_width\":0.5,\"species\":\"setosa\"},{\"sepal_length\":4.8,\"sepal_width\":3.4,\"petal_length\":1.9,\"petal_width\":0.2,\"species\":\"setosa\"},{\"sepal_length\":5.0,\"sepal_width\":3.0,\"petal_length\":1.6,\"petal_width\":0.2,\"species\":\"setosa\"},{\"sepal_length\":5.0,\"sepal_width\":3.4,\"petal_length\":1.6,\"petal_width\":0.4,\"species\":\"setosa\"},{\"sepal_length\":5.2,\"sepal_width\":3.5,\"petal_length\":1.5,\"petal_width\":0.2,\"species\":\"setosa\"},{\"sepal_length\":5.2,\"sepal_width\":3.4,\"petal_length\":1.4,\"petal_width\":0.2,\"species\":\"setosa\"},{\"sepal_length\":4.7,\"sepal_width\":3.2,\"petal_length\":1.6,\"petal_width\":0.2,\"species\":\"setosa\"},{\"sepal_length\":4.8,\"sepal_width\":3.1,\"petal_length\":1.6,\"petal_width\":0.2,\"species\":\"setosa\"},{\"sepal_length\":5.4,\"sepal_width\":3.4,\"petal_length\":1.5,\"petal_width\":0.4,\"species\":\"setosa\"},{\"sepal_length\":5.2,\"sepal_width\":4.1,\"petal_length\":1.5,\"petal_width\":0.1,\"species\":\"setosa\"},{\"sepal_length\":5.5,\"sepal_width\":4.2,\"petal_length\":1.4,\"petal_width\":0.2,\"species\":\"setosa\"},{\"sepal_length\":4.9,\"sepal_width\":3.1,\"petal_length\":1.5,\"petal_width\":0.2,\"species\":\"setosa\"},{\"sepal_length\":5.0,\"sepal_width\":3.2,\"petal_length\":1.2,\"petal_width\":0.2,\"species\":\"setosa\"},{\"sepal_length\":5.5,\"sepal_width\":3.5,\"petal_length\":1.3,\"petal_width\":0.2,\"species\":\"setosa\"},{\"sepal_length\":4.9,\"sepal_width\":3.6,\"petal_length\":1.4,\"petal_width\":0.1,\"species\":\"setosa\"},{\"sepal_length\":4.4,\"sepal_width\":3.0,\"petal_length\":1.3,\"petal_width\":0.2,\"species\":\"setosa\"},{\"sepal_length\":5.1,\"sepal_width\":3.4,\"petal_length\":1.5,\"petal_width\":0.2,\"species\":\"setosa\"},{\"sepal_length\":5.0,\"sepal_width\":3.5,\"petal_length\":1.3,\"petal_width\":0.3,\"species\":\"setosa\"},{\"sepal_length\":4.5,\"sepal_width\":2.3,\"petal_length\":1.3,\"petal_width\":0.3,\"species\":\"setosa\"},{\"sepal_length\":4.4,\"sepal_width\":3.2,\"petal_length\":1.3,\"petal_width\":0.2,\"species\":\"setosa\"},{\"sepal_length\":5.0,\"sepal_width\":3.5,\"petal_length\":1.6,\"petal_width\":0.6,\"species\":\"setosa\"},{\"sepal_length\":5.1,\"sepal_width\":3.8,\"petal_length\":1.9,\"petal_width\":0.4,\"species\":\"setosa\"},{\"sepal_length\":4.8,\"sepal_width\":3.0,\"petal_length\":1.4,\"petal_width\":0.3,\"species\":\"setosa\"},{\"sepal_length\":5.1,\"sepal_width\":3.8,\"petal_length\":1.6,\"petal_width\":0.2,\"species\":\"setosa\"},{\"sepal_length\":4.6,\"sepal_width\":3.2,\"petal_length\":1.4,\"petal_width\":0.2,\"species\":\"setosa\"},{\"sepal_length\":5.3,\"sepal_width\":3.7,\"petal_length\":1.5,\"petal_width\":0.2,\"species\":\"setosa\"},{\"sepal_length\":5.0,\"sepal_width\":3.3,\"petal_length\":1.4,\"petal_width\":0.2,\"species\":\"setosa\"},{\"sepal_length\":7.0,\"sepal_width\":3.2,\"petal_length\":4.7,\"petal_width\":1.4,\"species\":\"versicolor\"},{\"sepal_length\":6.4,\"sepal_width\":3.2,\"petal_length\":4.5,\"petal_width\":1.5,\"species\":\"versicolor\"},{\"sepal_length\":6.9,\"sepal_width\":3.1,\"petal_length\":4.9,\"petal_width\":1.5,\"species\":\"versicolor\"},{\"sepal_length\":5.5,\"sepal_width\":2.3,\"petal_length\":4.0,\"petal_width\":1.3,\"species\":\"versicolor\"},{\"sepal_length\":6.5,\"sepal_width\":2.8,\"petal_length\":4.6,\"petal_width\":1.5,\"species\":\"versicolor\"},{\"sepal_length\":5.7,\"sepal_width\":2.8,\"petal_length\":4.5,\"petal_width\":1.3,\"species\":\"versicolor\"},{\"sepal_length\":6.3,\"sepal_width\":3.3,\"petal_length\":4.7,\"petal_width\":1.6,\"species\":\"versicolor\"},{\"sepal_length\":4.9,\"sepal_width\":2.4,\"petal_length\":3.3,\"petal_width\":1.0,\"species\":\"versicolor\"},{\"sepal_length\":6.6,\"sepal_width\":2.9,\"petal_length\":4.6,\"petal_width\":1.3,\"species\":\"versicolor\"},{\"sepal_length\":5.2,\"sepal_width\":2.7,\"petal_length\":3.9,\"petal_width\":1.4,\"species\":\"versicolor\"},{\"sepal_length\":5.0,\"sepal_width\":2.0,\"petal_length\":3.5,\"petal_width\":1.0,\"species\":\"versicolor\"},{\"sepal_length\":5.9,\"sepal_width\":3.0,\"petal_length\":4.2,\"petal_width\":1.5,\"species\":\"versicolor\"},{\"sepal_length\":6.0,\"sepal_width\":2.2,\"petal_length\":4.0,\"petal_width\":1.0,\"species\":\"versicolor\"},{\"sepal_length\":6.1,\"sepal_width\":2.9,\"petal_length\":4.7,\"petal_width\":1.4,\"species\":\"versicolor\"},{\"sepal_length\":5.6,\"sepal_width\":2.9,\"petal_length\":3.6,\"petal_width\":1.3,\"species\":\"versicolor\"},{\"sepal_length\":6.7,\"sepal_width\":3.1,\"petal_length\":4.4,\"petal_width\":1.4,\"species\":\"versicolor\"},{\"sepal_length\":5.6,\"sepal_width\":3.0,\"petal_length\":4.5,\"petal_width\":1.5,\"species\":\"versicolor\"},{\"sepal_length\":5.8,\"sepal_width\":2.7,\"petal_length\":4.1,\"petal_width\":1.0,\"species\":\"versicolor\"},{\"sepal_length\":6.2,\"sepal_width\":2.2,\"petal_length\":4.5,\"petal_width\":1.5,\"species\":\"versicolor\"},{\"sepal_length\":5.6,\"sepal_width\":2.5,\"petal_length\":3.9,\"petal_width\":1.1,\"species\":\"versicolor\"},{\"sepal_length\":5.9,\"sepal_width\":3.2,\"petal_length\":4.8,\"petal_width\":1.8,\"species\":\"versicolor\"},{\"sepal_length\":6.1,\"sepal_width\":2.8,\"petal_length\":4.0,\"petal_width\":1.3,\"species\":\"versicolor\"},{\"sepal_length\":6.3,\"sepal_width\":2.5,\"petal_length\":4.9,\"petal_width\":1.5,\"species\":\"versicolor\"},{\"sepal_length\":6.1,\"sepal_width\":2.8,\"petal_length\":4.7,\"petal_width\":1.2,\"species\":\"versicolor\"},{\"sepal_length\":6.4,\"sepal_width\":2.9,\"petal_length\":4.3,\"petal_width\":1.3,\"species\":\"versicolor\"},{\"sepal_length\":6.6,\"sepal_width\":3.0,\"petal_length\":4.4,\"petal_width\":1.4,\"species\":\"versicolor\"},{\"sepal_length\":6.8,\"sepal_width\":2.8,\"petal_length\":4.8,\"petal_width\":1.4,\"species\":\"versicolor\"},{\"sepal_length\":6.7,\"sepal_width\":3.0,\"petal_length\":5.0,\"petal_width\":1.7,\"species\":\"versicolor\"},{\"sepal_length\":6.0,\"sepal_width\":2.9,\"petal_length\":4.5,\"petal_width\":1.5,\"species\":\"versicolor\"},{\"sepal_length\":5.7,\"sepal_width\":2.6,\"petal_length\":3.5,\"petal_width\":1.0,\"species\":\"versicolor\"},{\"sepal_length\":5.5,\"sepal_width\":2.4,\"petal_length\":3.8,\"petal_width\":1.1,\"species\":\"versicolor\"},{\"sepal_length\":5.5,\"sepal_width\":2.4,\"petal_length\":3.7,\"petal_width\":1.0,\"species\":\"versicolor\"},{\"sepal_length\":5.8,\"sepal_width\":2.7,\"petal_length\":3.9,\"petal_width\":1.2,\"species\":\"versicolor\"},{\"sepal_length\":6.0,\"sepal_width\":2.7,\"petal_length\":5.1,\"petal_width\":1.6,\"species\":\"versicolor\"},{\"sepal_length\":5.4,\"sepal_width\":3.0,\"petal_length\":4.5,\"petal_width\":1.5,\"species\":\"versicolor\"},{\"sepal_length\":6.0,\"sepal_width\":3.4,\"petal_length\":4.5,\"petal_width\":1.6,\"species\":\"versicolor\"},{\"sepal_length\":6.7,\"sepal_width\":3.1,\"petal_length\":4.7,\"petal_width\":1.5,\"species\":\"versicolor\"},{\"sepal_length\":6.3,\"sepal_width\":2.3,\"petal_length\":4.4,\"petal_width\":1.3,\"species\":\"versicolor\"},{\"sepal_length\":5.6,\"sepal_width\":3.0,\"petal_length\":4.1,\"petal_width\":1.3,\"species\":\"versicolor\"},{\"sepal_length\":5.5,\"sepal_width\":2.5,\"petal_length\":4.0,\"petal_width\":1.3,\"species\":\"versicolor\"},{\"sepal_length\":5.5,\"sepal_width\":2.6,\"petal_length\":4.4,\"petal_width\":1.2,\"species\":\"versicolor\"},{\"sepal_length\":6.1,\"sepal_width\":3.0,\"petal_length\":4.6,\"petal_width\":1.4,\"species\":\"versicolor\"},{\"sepal_length\":5.8,\"sepal_width\":2.6,\"petal_length\":4.0,\"petal_width\":1.2,\"species\":\"versicolor\"},{\"sepal_length\":5.0,\"sepal_width\":2.3,\"petal_length\":3.3,\"petal_width\":1.0,\"species\":\"versicolor\"},{\"sepal_length\":5.6,\"sepal_width\":2.7,\"petal_length\":4.2,\"petal_width\":1.3,\"species\":\"versicolor\"},{\"sepal_length\":5.7,\"sepal_width\":3.0,\"petal_length\":4.2,\"petal_width\":1.2,\"species\":\"versicolor\"},{\"sepal_length\":5.7,\"sepal_width\":2.9,\"petal_length\":4.2,\"petal_width\":1.3,\"species\":\"versicolor\"},{\"sepal_length\":6.2,\"sepal_width\":2.9,\"petal_length\":4.3,\"petal_width\":1.3,\"species\":\"versicolor\"},{\"sepal_length\":5.1,\"sepal_width\":2.5,\"petal_length\":3.0,\"petal_width\":1.1,\"species\":\"versicolor\"},{\"sepal_length\":5.7,\"sepal_width\":2.8,\"petal_length\":4.1,\"petal_width\":1.3,\"species\":\"versicolor\"},{\"sepal_length\":6.3,\"sepal_width\":3.3,\"petal_length\":6.0,\"petal_width\":2.5,\"species\":\"virginica\"},{\"sepal_length\":5.8,\"sepal_width\":2.7,\"petal_length\":5.1,\"petal_width\":1.9,\"species\":\"virginica\"},{\"sepal_length\":7.1,\"sepal_width\":3.0,\"petal_length\":5.9,\"petal_width\":2.1,\"species\":\"virginica\"},{\"sepal_length\":6.3,\"sepal_width\":2.9,\"petal_length\":5.6,\"petal_width\":1.8,\"species\":\"virginica\"},{\"sepal_length\":6.5,\"sepal_width\":3.0,\"petal_length\":5.8,\"petal_width\":2.2,\"species\":\"virginica\"},{\"sepal_length\":7.6,\"sepal_width\":3.0,\"petal_length\":6.6,\"petal_width\":2.1,\"species\":\"virginica\"},{\"sepal_length\":4.9,\"sepal_width\":2.5,\"petal_length\":4.5,\"petal_width\":1.7,\"species\":\"virginica\"},{\"sepal_length\":7.3,\"sepal_width\":2.9,\"petal_length\":6.3,\"petal_width\":1.8,\"species\":\"virginica\"},{\"sepal_length\":6.7,\"sepal_width\":2.5,\"petal_length\":5.8,\"petal_width\":1.8,\"species\":\"virginica\"},{\"sepal_length\":7.2,\"sepal_width\":3.6,\"petal_length\":6.1,\"petal_width\":2.5,\"species\":\"virginica\"},{\"sepal_length\":6.5,\"sepal_width\":3.2,\"petal_length\":5.1,\"petal_width\":2.0,\"species\":\"virginica\"},{\"sepal_length\":6.4,\"sepal_width\":2.7,\"petal_length\":5.3,\"petal_width\":1.9,\"species\":\"virginica\"},{\"sepal_length\":6.8,\"sepal_width\":3.0,\"petal_length\":5.5,\"petal_width\":2.1,\"species\":\"virginica\"},{\"sepal_length\":5.7,\"sepal_width\":2.5,\"petal_length\":5.0,\"petal_width\":2.0,\"species\":\"virginica\"},{\"sepal_length\":5.8,\"sepal_width\":2.8,\"petal_length\":5.1,\"petal_width\":2.4,\"species\":\"virginica\"},{\"sepal_length\":6.4,\"sepal_width\":3.2,\"petal_length\":5.3,\"petal_width\":2.3,\"species\":\"virginica\"},{\"sepal_length\":6.5,\"sepal_width\":3.0,\"petal_length\":5.5,\"petal_width\":1.8,\"species\":\"virginica\"},{\"sepal_length\":7.7,\"sepal_width\":3.8,\"petal_length\":6.7,\"petal_width\":2.2,\"species\":\"virginica\"},{\"sepal_length\":7.7,\"sepal_width\":2.6,\"petal_length\":6.9,\"petal_width\":2.3,\"species\":\"virginica\"},{\"sepal_length\":6.0,\"sepal_width\":2.2,\"petal_length\":5.0,\"petal_width\":1.5,\"species\":\"virginica\"},{\"sepal_length\":6.9,\"sepal_width\":3.2,\"petal_length\":5.7,\"petal_width\":2.3,\"species\":\"virginica\"},{\"sepal_length\":5.6,\"sepal_width\":2.8,\"petal_length\":4.9,\"petal_width\":2.0,\"species\":\"virginica\"},{\"sepal_length\":7.7,\"sepal_width\":2.8,\"petal_length\":6.7,\"petal_width\":2.0,\"species\":\"virginica\"},{\"sepal_length\":6.3,\"sepal_width\":2.7,\"petal_length\":4.9,\"petal_width\":1.8,\"species\":\"virginica\"},{\"sepal_length\":6.7,\"sepal_width\":3.3,\"petal_length\":5.7,\"petal_width\":2.1,\"species\":\"virginica\"},{\"sepal_length\":7.2,\"sepal_width\":3.2,\"petal_length\":6.0,\"petal_width\":1.8,\"species\":\"virginica\"},{\"sepal_length\":6.2,\"sepal_width\":2.8,\"petal_length\":4.8,\"petal_width\":1.8,\"species\":\"virginica\"},{\"sepal_length\":6.1,\"sepal_width\":3.0,\"petal_length\":4.9,\"petal_width\":1.8,\"species\":\"virginica\"},{\"sepal_length\":6.4,\"sepal_width\":2.8,\"petal_length\":5.6,\"petal_width\":2.1,\"species\":\"virginica\"},{\"sepal_length\":7.2,\"sepal_width\":3.0,\"petal_length\":5.8,\"petal_width\":1.6,\"species\":\"virginica\"},{\"sepal_length\":7.4,\"sepal_width\":2.8,\"petal_length\":6.1,\"petal_width\":1.9,\"species\":\"virginica\"},{\"sepal_length\":7.9,\"sepal_width\":3.8,\"petal_length\":6.4,\"petal_width\":2.0,\"species\":\"virginica\"},{\"sepal_length\":6.4,\"sepal_width\":2.8,\"petal_length\":5.6,\"petal_width\":2.2,\"species\":\"virginica\"},{\"sepal_length\":6.3,\"sepal_width\":2.8,\"petal_length\":5.1,\"petal_width\":1.5,\"species\":\"virginica\"},{\"sepal_length\":6.1,\"sepal_width\":2.6,\"petal_length\":5.6,\"petal_width\":1.4,\"species\":\"virginica\"},{\"sepal_length\":7.7,\"sepal_width\":3.0,\"petal_length\":6.1,\"petal_width\":2.3,\"species\":\"virginica\"},{\"sepal_length\":6.3,\"sepal_width\":3.4,\"petal_length\":5.6,\"petal_width\":2.4,\"species\":\"virginica\"},{\"sepal_length\":6.4,\"sepal_width\":3.1,\"petal_length\":5.5,\"petal_width\":1.8,\"species\":\"virginica\"},{\"sepal_length\":6.0,\"sepal_width\":3.0,\"petal_length\":4.8,\"petal_width\":1.8,\"species\":\"virginica\"},{\"sepal_length\":6.9,\"sepal_width\":3.1,\"petal_length\":5.4,\"petal_width\":2.1,\"species\":\"virginica\"},{\"sepal_length\":6.7,\"sepal_width\":3.1,\"petal_length\":5.6,\"petal_width\":2.4,\"species\":\"virginica\"},{\"sepal_length\":6.9,\"sepal_width\":3.1,\"petal_length\":5.1,\"petal_width\":2.3,\"species\":\"virginica\"},{\"sepal_length\":5.8,\"sepal_width\":2.7,\"petal_length\":5.1,\"petal_width\":1.9,\"species\":\"virginica\"},{\"sepal_length\":6.8,\"sepal_width\":3.2,\"petal_length\":5.9,\"petal_width\":2.3,\"species\":\"virginica\"},{\"sepal_length\":6.7,\"sepal_width\":3.3,\"petal_length\":5.7,\"petal_width\":2.5,\"species\":\"virginica\"},{\"sepal_length\":6.7,\"sepal_width\":3.0,\"petal_length\":5.2,\"petal_width\":2.3,\"species\":\"virginica\"},{\"sepal_length\":6.3,\"sepal_width\":2.5,\"petal_length\":5.0,\"petal_width\":1.9,\"species\":\"virginica\"},{\"sepal_length\":6.5,\"sepal_width\":3.0,\"petal_length\":5.2,\"petal_width\":2.0,\"species\":\"virginica\"},{\"sepal_length\":6.2,\"sepal_width\":3.4,\"petal_length\":5.4,\"petal_width\":2.3,\"species\":\"virginica\"},{\"sepal_length\":5.9,\"sepal_width\":3.0,\"petal_length\":5.1,\"petal_width\":1.8,\"species\":\"virginica\"}]'"
      ]
     },
     "execution_count": 51,
     "metadata": {},
     "output_type": "execute_result"
    }
   ],
   "source": [
    "df.to_json(orient='records')"
   ]
  },
  {
   "cell_type": "code",
   "execution_count": 57,
   "id": "1be57d91",
   "metadata": {},
   "outputs": [],
   "source": [
    "df.to_json('test.json')"
   ]
  },
  {
   "cell_type": "code",
   "execution_count": 64,
   "id": "dd782416",
   "metadata": {},
   "outputs": [
    {
     "data": {
      "text/html": [
       "<div>\n",
       "<style scoped>\n",
       "    .dataframe tbody tr th:only-of-type {\n",
       "        vertical-align: middle;\n",
       "    }\n",
       "\n",
       "    .dataframe tbody tr th {\n",
       "        vertical-align: top;\n",
       "    }\n",
       "\n",
       "    .dataframe thead th {\n",
       "        text-align: right;\n",
       "    }\n",
       "</style>\n",
       "<table border=\"1\" class=\"dataframe\">\n",
       "  <thead>\n",
       "    <tr style=\"text-align: right;\">\n",
       "      <th></th>\n",
       "      <th>species</th>\n",
       "    </tr>\n",
       "  </thead>\n",
       "  <tbody>\n",
       "    <tr>\n",
       "      <th>0</th>\n",
       "      <td>setosa</td>\n",
       "    </tr>\n",
       "    <tr>\n",
       "      <th>1</th>\n",
       "      <td>setosa</td>\n",
       "    </tr>\n",
       "    <tr>\n",
       "      <th>2</th>\n",
       "      <td>setosa</td>\n",
       "    </tr>\n",
       "    <tr>\n",
       "      <th>3</th>\n",
       "      <td>setosa</td>\n",
       "    </tr>\n",
       "    <tr>\n",
       "      <th>4</th>\n",
       "      <td>setosa</td>\n",
       "    </tr>\n",
       "    <tr>\n",
       "      <th>...</th>\n",
       "      <td>...</td>\n",
       "    </tr>\n",
       "    <tr>\n",
       "      <th>145</th>\n",
       "      <td>virginica</td>\n",
       "    </tr>\n",
       "    <tr>\n",
       "      <th>146</th>\n",
       "      <td>virginica</td>\n",
       "    </tr>\n",
       "    <tr>\n",
       "      <th>147</th>\n",
       "      <td>virginica</td>\n",
       "    </tr>\n",
       "    <tr>\n",
       "      <th>148</th>\n",
       "      <td>virginica</td>\n",
       "    </tr>\n",
       "    <tr>\n",
       "      <th>149</th>\n",
       "      <td>virginica</td>\n",
       "    </tr>\n",
       "  </tbody>\n",
       "</table>\n",
       "<p>150 rows × 1 columns</p>\n",
       "</div>"
      ],
      "text/plain": [
       "       species\n",
       "0       setosa\n",
       "1       setosa\n",
       "2       setosa\n",
       "3       setosa\n",
       "4       setosa\n",
       "..         ...\n",
       "145  virginica\n",
       "146  virginica\n",
       "147  virginica\n",
       "148  virginica\n",
       "149  virginica\n",
       "\n",
       "[150 rows x 1 columns]"
      ]
     },
     "execution_count": 64,
     "metadata": {},
     "output_type": "execute_result"
    }
   ],
   "source": [
    "pd.read_json('test.json').iloc[:,[-1]]"
   ]
  },
  {
   "cell_type": "code",
   "execution_count": null,
   "id": "0375ec20",
   "metadata": {},
   "outputs": [],
   "source": []
  }
 ],
 "metadata": {
  "kernelspec": {
   "display_name": "Python 3 (ipykernel)",
   "language": "python",
   "name": "python3"
  },
  "language_info": {
   "codemirror_mode": {
    "name": "ipython",
    "version": 3
   },
   "file_extension": ".py",
   "mimetype": "text/x-python",
   "name": "python",
   "nbconvert_exporter": "python",
   "pygments_lexer": "ipython3",
   "version": "3.10.9"
  }
 },
 "nbformat": 4,
 "nbformat_minor": 5
}
