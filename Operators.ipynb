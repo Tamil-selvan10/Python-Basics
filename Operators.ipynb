{
 "cells": [
  {
   "cell_type": "markdown",
   "id": "e8d44922",
   "metadata": {},
   "source": [
    "#### Operators"
   ]
  },
  {
   "cell_type": "markdown",
   "id": "4ca4247c",
   "metadata": {},
   "source": [
    "#### Arithmetic Operators\n",
    "\n",
    "- Addition (+)\n",
    "- Subtraction (-)\n",
    "- Multiplication (*)\n",
    "- Division (/)\n",
    "- Floor Division (//)\n",
    "- Modulus (%)\n",
    "- Exponential/power (**)"
   ]
  },
  {
   "cell_type": "code",
   "execution_count": 4,
   "id": "c831a781",
   "metadata": {},
   "outputs": [
    {
     "name": "stdout",
     "output_type": "stream",
     "text": [
      "Addition          (+) : 5+2  = 7\n",
      "subtraction       (-) : 5-2  = 3\n",
      "Multiplication    (*) : 5*2  = 10\n",
      "Division          (/) : 5/2  = 2.5\n",
      "Floor Division    (//): 5//2 = 2\n",
      "modulus           (%) : 5%2  = 1\n",
      "Exponential/power (**): 5**2 = 25\n"
     ]
    }
   ],
   "source": [
    "a=5\n",
    "b=2\n",
    "\n",
    "print(f'Addition          (+) : {a}+{b}  = {a+b}')\n",
    "print(f'subtraction       (-) : {a}-{b}  = {a-b}')\n",
    "print(f'Multiplication    (*) : {a}*{b}  = {a*b}')\n",
    "print(f'Division          (/) : {a}/{b}  = {a/b}')\n",
    "print(f'Floor Division    (//): {a}//{b} = {a//b}')\n",
    "print(f'modulus           (%) : {a}%{b}  = {a%b}')\n",
    "print(f'Exponential/power (**): {a}**{b} = {a**b}')"
   ]
  },
  {
   "cell_type": "markdown",
   "id": "4ee6b994",
   "metadata": {},
   "source": [
    "##### Assignment Operators\n",
    "- Assignment Operator (=)\n",
    "- Addition Assignment (+=)\n",
    "- Subtraction Assignment (-=)\n",
    "- Multiplication Assignment (*=)\n",
    "- Division Assignment (/=)\n",
    "- Floor Division Assignment (//=)\n",
    "- Modulus Assignment (%=)\n",
    "- Exponential/power Assignment (**=)"
   ]
  },
  {
   "cell_type": "code",
   "execution_count": 5,
   "id": "2406bd98",
   "metadata": {},
   "outputs": [
    {
     "name": "stdout",
     "output_type": "stream",
     "text": [
      "5\n"
     ]
    }
   ],
   "source": [
    "#Assignment Operator (=)\n",
    "\n",
    "a=5\n",
    "\n",
    "print(a)\n"
   ]
  },
  {
   "cell_type": "code",
   "execution_count": 6,
   "id": "6b406ed6",
   "metadata": {},
   "outputs": [
    {
     "name": "stdout",
     "output_type": "stream",
     "text": [
      "a:7\n"
     ]
    }
   ],
   "source": [
    "# Addition Assignment (+=)\n",
    "a=5\n",
    "\n",
    "a+=2 # a=a+2\n",
    "\n",
    "print(f'a:{a}')"
   ]
  },
  {
   "cell_type": "code",
   "execution_count": 7,
   "id": "23d795af",
   "metadata": {},
   "outputs": [
    {
     "name": "stdout",
     "output_type": "stream",
     "text": [
      "a:3\n"
     ]
    }
   ],
   "source": [
    "# Subtraction Assignment (-=)\n",
    "a=5\n",
    "\n",
    "a-=2 #a=a-2\n",
    "\n",
    "print(f'a:{a}')"
   ]
  },
  {
   "cell_type": "code",
   "execution_count": 8,
   "id": "3190e416",
   "metadata": {},
   "outputs": [
    {
     "name": "stdout",
     "output_type": "stream",
     "text": [
      "a:10\n"
     ]
    }
   ],
   "source": [
    "# Multiplication Assignment (*=)\n",
    "a=5\n",
    "\n",
    "a*=2 # a=a*2\n",
    "\n",
    "print(f'a:{a}')"
   ]
  },
  {
   "cell_type": "code",
   "execution_count": 9,
   "id": "63263217",
   "metadata": {},
   "outputs": [
    {
     "name": "stdout",
     "output_type": "stream",
     "text": [
      "a:2.5\n"
     ]
    }
   ],
   "source": [
    "# Division Assignment (/=)\n",
    "a=5\n",
    "\n",
    "a/=2 #a=a/2\n",
    "\n",
    "print(f'a:{a}')"
   ]
  },
  {
   "cell_type": "code",
   "execution_count": 10,
   "id": "72954610",
   "metadata": {},
   "outputs": [
    {
     "name": "stdout",
     "output_type": "stream",
     "text": [
      "a:2\n"
     ]
    }
   ],
   "source": [
    "# Floor Division Assignment (//=)\n",
    "a=5\n",
    "\n",
    "a//=2 # a=a//2\n",
    "\n",
    "print(f'a:{a}')"
   ]
  },
  {
   "cell_type": "code",
   "execution_count": 11,
   "id": "6c27b8f8",
   "metadata": {},
   "outputs": [
    {
     "name": "stdout",
     "output_type": "stream",
     "text": [
      "a:1\n"
     ]
    }
   ],
   "source": [
    "# Modulus Assignment (%=)\n",
    "a=5\n",
    "\n",
    "a%=2 #a=a%2\n",
    "\n",
    "print(f'a:{a}')"
   ]
  },
  {
   "cell_type": "code",
   "execution_count": 12,
   "id": "ebba4a0e",
   "metadata": {},
   "outputs": [
    {
     "name": "stdout",
     "output_type": "stream",
     "text": [
      "a:25\n"
     ]
    }
   ],
   "source": [
    "# Exponential/power Assignment (**=)\n",
    "a=5\n",
    "\n",
    "a**=2 #a=a**2\n",
    "\n",
    "print(f'a:{a}')"
   ]
  },
  {
   "cell_type": "markdown",
   "id": "38fc3170",
   "metadata": {},
   "source": [
    "#### Comparison Operators\n",
    "\n",
    "- Equal to (==)\n",
    "- Not Equal to (!=)\n",
    "- Greater than (>)\n",
    "- Less than (<)\n",
    "- Greater than or equal to (>=)\n",
    "- Less than or equal to (<=)"
   ]
  },
  {
   "cell_type": "code",
   "execution_count": 13,
   "id": "d83f69ae",
   "metadata": {},
   "outputs": [
    {
     "data": {
      "text/plain": [
       "True"
      ]
     },
     "execution_count": 13,
     "metadata": {},
     "output_type": "execute_result"
    }
   ],
   "source": [
    "# Equal to (==)\n",
    "a=5\n",
    "\n",
    "a==5"
   ]
  },
  {
   "cell_type": "code",
   "execution_count": 14,
   "id": "e929f477",
   "metadata": {},
   "outputs": [
    {
     "data": {
      "text/plain": [
       "False"
      ]
     },
     "execution_count": 14,
     "metadata": {},
     "output_type": "execute_result"
    }
   ],
   "source": [
    "a==2"
   ]
  },
  {
   "cell_type": "code",
   "execution_count": 15,
   "id": "76adfc0d",
   "metadata": {},
   "outputs": [
    {
     "data": {
      "text/plain": [
       "False"
      ]
     },
     "execution_count": 15,
     "metadata": {},
     "output_type": "execute_result"
    }
   ],
   "source": [
    "# Not Equal to (!=)\n",
    "a=5\n",
    "\n",
    "a!=5\n"
   ]
  },
  {
   "cell_type": "code",
   "execution_count": 16,
   "id": "d7e143ff",
   "metadata": {},
   "outputs": [
    {
     "data": {
      "text/plain": [
       "True"
      ]
     },
     "execution_count": 16,
     "metadata": {},
     "output_type": "execute_result"
    }
   ],
   "source": [
    "a!=2"
   ]
  },
  {
   "cell_type": "code",
   "execution_count": 17,
   "id": "3ddc537e",
   "metadata": {},
   "outputs": [
    {
     "data": {
      "text/plain": [
       "True"
      ]
     },
     "execution_count": 17,
     "metadata": {},
     "output_type": "execute_result"
    }
   ],
   "source": [
    "# Greater than (>)\n",
    "a=2\n",
    "\n",
    "a>1"
   ]
  },
  {
   "cell_type": "code",
   "execution_count": 18,
   "id": "3454caef",
   "metadata": {},
   "outputs": [
    {
     "data": {
      "text/plain": [
       "False"
      ]
     },
     "execution_count": 18,
     "metadata": {},
     "output_type": "execute_result"
    }
   ],
   "source": [
    "a>5"
   ]
  },
  {
   "cell_type": "code",
   "execution_count": 19,
   "id": "90976a92",
   "metadata": {},
   "outputs": [
    {
     "data": {
      "text/plain": [
       "True"
      ]
     },
     "execution_count": 19,
     "metadata": {},
     "output_type": "execute_result"
    }
   ],
   "source": [
    "# Less than (<)\n",
    "a=2\n",
    "\n",
    "a<3\n"
   ]
  },
  {
   "cell_type": "code",
   "execution_count": 20,
   "id": "54f83412",
   "metadata": {},
   "outputs": [
    {
     "data": {
      "text/plain": [
       "False"
      ]
     },
     "execution_count": 20,
     "metadata": {},
     "output_type": "execute_result"
    }
   ],
   "source": [
    "a<1"
   ]
  },
  {
   "cell_type": "code",
   "execution_count": 21,
   "id": "0b217d7b",
   "metadata": {},
   "outputs": [
    {
     "data": {
      "text/plain": [
       "True"
      ]
     },
     "execution_count": 21,
     "metadata": {},
     "output_type": "execute_result"
    }
   ],
   "source": [
    "# Greater than or equal to (>=)\n",
    "a=18\n",
    "\n",
    "a>=17"
   ]
  },
  {
   "cell_type": "code",
   "execution_count": 22,
   "id": "25f10dd4",
   "metadata": {},
   "outputs": [
    {
     "data": {
      "text/plain": [
       "True"
      ]
     },
     "execution_count": 22,
     "metadata": {},
     "output_type": "execute_result"
    }
   ],
   "source": [
    "a>=18"
   ]
  },
  {
   "cell_type": "code",
   "execution_count": 23,
   "id": "af35827e",
   "metadata": {},
   "outputs": [
    {
     "data": {
      "text/plain": [
       "False"
      ]
     },
     "execution_count": 23,
     "metadata": {},
     "output_type": "execute_result"
    }
   ],
   "source": [
    "a>=19"
   ]
  },
  {
   "cell_type": "code",
   "execution_count": 24,
   "id": "25b9711d",
   "metadata": {},
   "outputs": [
    {
     "data": {
      "text/plain": [
       "True"
      ]
     },
     "execution_count": 24,
     "metadata": {},
     "output_type": "execute_result"
    }
   ],
   "source": [
    "# Less than or equal to (<=)\n",
    "a=18\n",
    "\n",
    "a<=20"
   ]
  },
  {
   "cell_type": "code",
   "execution_count": 25,
   "id": "21a4761a",
   "metadata": {},
   "outputs": [
    {
     "data": {
      "text/plain": [
       "True"
      ]
     },
     "execution_count": 25,
     "metadata": {},
     "output_type": "execute_result"
    }
   ],
   "source": [
    "a<=18"
   ]
  },
  {
   "cell_type": "code",
   "execution_count": 26,
   "id": "4b29bb90",
   "metadata": {},
   "outputs": [
    {
     "data": {
      "text/plain": [
       "False"
      ]
     },
     "execution_count": 26,
     "metadata": {},
     "output_type": "execute_result"
    }
   ],
   "source": [
    "a<=17"
   ]
  },
  {
   "cell_type": "markdown",
   "id": "31387d96",
   "metadata": {},
   "source": [
    "#### Logical Operators\n",
    "\n",
    "- and    \n",
    "  True: when both are true\n",
    "- or     \n",
    "  True: when anyone is true\n",
    "- not    \n",
    "  Reverse the logical state (True --> False , False --> True)"
   ]
  },
  {
   "cell_type": "code",
   "execution_count": 27,
   "id": "c71cff70",
   "metadata": {},
   "outputs": [
    {
     "data": {
      "text/plain": [
       "True"
      ]
     },
     "execution_count": 27,
     "metadata": {},
     "output_type": "execute_result"
    }
   ],
   "source": [
    "### and \n",
    "True and True"
   ]
  },
  {
   "cell_type": "code",
   "execution_count": 28,
   "id": "5dd781b6",
   "metadata": {},
   "outputs": [
    {
     "data": {
      "text/plain": [
       "False"
      ]
     },
     "execution_count": 28,
     "metadata": {},
     "output_type": "execute_result"
    }
   ],
   "source": [
    "True and False"
   ]
  },
  {
   "cell_type": "code",
   "execution_count": 29,
   "id": "c47db973",
   "metadata": {},
   "outputs": [
    {
     "data": {
      "text/plain": [
       "True"
      ]
     },
     "execution_count": 29,
     "metadata": {},
     "output_type": "execute_result"
    }
   ],
   "source": [
    "### or\n",
    "True or False"
   ]
  },
  {
   "cell_type": "code",
   "execution_count": 30,
   "id": "2176e4e9",
   "metadata": {},
   "outputs": [
    {
     "data": {
      "text/plain": [
       "False"
      ]
     },
     "execution_count": 30,
     "metadata": {},
     "output_type": "execute_result"
    }
   ],
   "source": [
    "False or False"
   ]
  },
  {
   "cell_type": "code",
   "execution_count": 31,
   "id": "6f22c40a",
   "metadata": {},
   "outputs": [
    {
     "data": {
      "text/plain": [
       "False"
      ]
     },
     "execution_count": 31,
     "metadata": {},
     "output_type": "execute_result"
    }
   ],
   "source": [
    "#### not\n",
    "\n",
    "not True"
   ]
  },
  {
   "cell_type": "code",
   "execution_count": 32,
   "id": "c8f980a5",
   "metadata": {},
   "outputs": [
    {
     "data": {
      "text/plain": [
       "True"
      ]
     },
     "execution_count": 32,
     "metadata": {},
     "output_type": "execute_result"
    }
   ],
   "source": [
    "not False"
   ]
  },
  {
   "cell_type": "markdown",
   "id": "ba872c38",
   "metadata": {},
   "source": [
    "##### Bitwise Operators\n",
    "\n",
    "- Bitwise AND (&)\n",
    "- Bitwise OR  (|)\n",
    "- Bitwise NOT (~)\n",
    "- Bitwise XOR (^)\n",
    "- Bitwise Right Shift (>>)\n",
    "- Bitwise Left Shift  (<<)"
   ]
  },
  {
   "cell_type": "code",
   "execution_count": 33,
   "id": "3618a7cb",
   "metadata": {},
   "outputs": [
    {
     "data": {
      "text/plain": [
       "0"
      ]
     },
     "execution_count": 33,
     "metadata": {},
     "output_type": "execute_result"
    }
   ],
   "source": [
    "#### Bitwise AND (&)\n",
    "\n",
    "a=2 # 0010\n",
    "b=5 # 0101\n",
    "\n",
    "#8421\n",
    "#0010\n",
    "#0101\n",
    "#---------\n",
    "#0000\n",
    "#---------\n",
    "\n",
    "a&b"
   ]
  },
  {
   "cell_type": "code",
   "execution_count": 34,
   "id": "23c23c0f",
   "metadata": {},
   "outputs": [
    {
     "data": {
      "text/plain": [
       "'0b0'"
      ]
     },
     "execution_count": 34,
     "metadata": {},
     "output_type": "execute_result"
    }
   ],
   "source": [
    "bin(0)"
   ]
  },
  {
   "cell_type": "code",
   "execution_count": 35,
   "id": "bb9e03f5",
   "metadata": {},
   "outputs": [
    {
     "data": {
      "text/plain": [
       "7"
      ]
     },
     "execution_count": 35,
     "metadata": {},
     "output_type": "execute_result"
    }
   ],
   "source": [
    "#### Bitwise OR (|)\n",
    "\n",
    "a=2 # 0010\n",
    "b=5 # 0101\n",
    "\n",
    "#8421\n",
    "#0010\n",
    "#0101\n",
    "#--------------\n",
    "#0111\n",
    "#--------------\n",
    "\n",
    "a|b"
   ]
  },
  {
   "cell_type": "code",
   "execution_count": 36,
   "id": "f1ec32f4",
   "metadata": {},
   "outputs": [
    {
     "data": {
      "text/plain": [
       "'0b111'"
      ]
     },
     "execution_count": 36,
     "metadata": {},
     "output_type": "execute_result"
    }
   ],
   "source": [
    "bin(7)"
   ]
  },
  {
   "cell_type": "code",
   "execution_count": 37,
   "id": "a306a5cd",
   "metadata": {},
   "outputs": [
    {
     "data": {
      "text/plain": [
       "-3"
      ]
     },
     "execution_count": 37,
     "metadata": {},
     "output_type": "execute_result"
    }
   ],
   "source": [
    "#### Bitwise NOT (~)\n",
    "\n",
    "a=2 \n",
    "\n",
    "~a"
   ]
  },
  {
   "cell_type": "code",
   "execution_count": 38,
   "id": "b8a826fa",
   "metadata": {},
   "outputs": [
    {
     "data": {
      "text/plain": [
       "-6"
      ]
     },
     "execution_count": 38,
     "metadata": {},
     "output_type": "execute_result"
    }
   ],
   "source": [
    "a=5\n",
    "~a"
   ]
  },
  {
   "cell_type": "code",
   "execution_count": 39,
   "id": "0b9bab65",
   "metadata": {},
   "outputs": [
    {
     "data": {
      "text/plain": [
       "7"
      ]
     },
     "execution_count": 39,
     "metadata": {},
     "output_type": "execute_result"
    }
   ],
   "source": [
    "#### Bitwise XOR (^)\n",
    "\n",
    "a=2 # 0010\n",
    "b=5 # 0101\n",
    "\n",
    "#8421\n",
    "#0010\n",
    "#0101\n",
    "#----------\n",
    "#0111\n",
    "#----------\n",
    "a^b"
   ]
  },
  {
   "cell_type": "code",
   "execution_count": 40,
   "id": "873cba56",
   "metadata": {},
   "outputs": [
    {
     "data": {
      "text/plain": [
       "'0b111'"
      ]
     },
     "execution_count": 40,
     "metadata": {},
     "output_type": "execute_result"
    }
   ],
   "source": [
    "bin(7)"
   ]
  },
  {
   "cell_type": "code",
   "execution_count": 41,
   "id": "4c234586",
   "metadata": {},
   "outputs": [
    {
     "data": {
      "text/plain": [
       "1"
      ]
     },
     "execution_count": 41,
     "metadata": {},
     "output_type": "execute_result"
    }
   ],
   "source": [
    "#### Bitwise Right Shift (>>)\n",
    "\n",
    "a=2 # 0010\n",
    "\n",
    "#8421\n",
    "#0010\n",
    "#00010(1-digit right shift)\n",
    "#----------\n",
    "#0001\n",
    "#----------\n",
    "a>>1"
   ]
  },
  {
   "cell_type": "code",
   "execution_count": 42,
   "id": "69531862",
   "metadata": {},
   "outputs": [
    {
     "data": {
      "text/plain": [
       "'0b1'"
      ]
     },
     "execution_count": 42,
     "metadata": {},
     "output_type": "execute_result"
    }
   ],
   "source": [
    "bin(1)"
   ]
  },
  {
   "cell_type": "code",
   "execution_count": 43,
   "id": "89a9a139",
   "metadata": {},
   "outputs": [
    {
     "data": {
      "text/plain": [
       "0"
      ]
     },
     "execution_count": 43,
     "metadata": {},
     "output_type": "execute_result"
    }
   ],
   "source": [
    "a=7 # 0111\n",
    "\n",
    "#8421\n",
    "#0111\n",
    "#0000111(3-digit right shift)\n",
    "#-----\n",
    "#0000\n",
    "#-----\n",
    "\n",
    "a>>3"
   ]
  },
  {
   "cell_type": "code",
   "execution_count": 44,
   "id": "73fcb340",
   "metadata": {},
   "outputs": [
    {
     "data": {
      "text/plain": [
       "'0b0'"
      ]
     },
     "execution_count": 44,
     "metadata": {},
     "output_type": "execute_result"
    }
   ],
   "source": [
    "bin(0)"
   ]
  },
  {
   "cell_type": "code",
   "execution_count": 45,
   "id": "85b7ab09",
   "metadata": {},
   "outputs": [
    {
     "data": {
      "text/plain": [
       "4"
      ]
     },
     "execution_count": 45,
     "metadata": {},
     "output_type": "execute_result"
    }
   ],
   "source": [
    "#### Bitwise Left Shift (<<)\n",
    "\n",
    "a=2 #0010\n",
    "\n",
    "#16 8 4 2 1\n",
    "#   0 0 1 0\n",
    "#0  0 1 0 0( 1-digit left shift)\n",
    "#----------------------------------\n",
    "#00100\n",
    "#------------------------------------\n",
    "a<<1"
   ]
  },
  {
   "cell_type": "code",
   "execution_count": 46,
   "id": "d903068b",
   "metadata": {},
   "outputs": [
    {
     "data": {
      "text/plain": [
       "28"
      ]
     },
     "execution_count": 46,
     "metadata": {},
     "output_type": "execute_result"
    }
   ],
   "source": [
    "a=7 # 0111\n",
    "\n",
    "# 32 16 8 4 2 1\n",
    "#       0 1 1 1\n",
    "# 0  1  1 1 0 0(2-digit left shift)\n",
    "#--------------------------------------\n",
    "#011100\n",
    "#--------------------------------------\n",
    "a<<2"
   ]
  },
  {
   "cell_type": "code",
   "execution_count": 47,
   "id": "8e0e9f3e",
   "metadata": {},
   "outputs": [
    {
     "data": {
      "text/plain": [
       "'0b11100'"
      ]
     },
     "execution_count": 47,
     "metadata": {},
     "output_type": "execute_result"
    }
   ],
   "source": [
    "bin(28)"
   ]
  },
  {
   "cell_type": "markdown",
   "id": "3357d0a0",
   "metadata": {},
   "source": [
    "#### Special operators\n",
    "\n",
    "- Identity operators\n",
    "   - is\n",
    "   - is not\n",
    "   \n",
    "- Membership operators\n",
    "  - in\n",
    "  - not in"
   ]
  },
  {
   "cell_type": "code",
   "execution_count": 49,
   "id": "fb2b10d4",
   "metadata": {},
   "outputs": [
    {
     "data": {
      "text/plain": [
       "True"
      ]
     },
     "execution_count": 49,
     "metadata": {},
     "output_type": "execute_result"
    }
   ],
   "source": [
    "# Identity operators\n",
    "x=2\n",
    "y=2\n",
    "\n",
    "x is y"
   ]
  },
  {
   "cell_type": "code",
   "execution_count": 50,
   "id": "de088f2d",
   "metadata": {},
   "outputs": [
    {
     "data": {
      "text/plain": [
       "False"
      ]
     },
     "execution_count": 50,
     "metadata": {},
     "output_type": "execute_result"
    }
   ],
   "source": [
    "x is not y"
   ]
  },
  {
   "cell_type": "code",
   "execution_count": 51,
   "id": "ecdd5f3d",
   "metadata": {},
   "outputs": [
    {
     "data": {
      "text/plain": [
       "True"
      ]
     },
     "execution_count": 51,
     "metadata": {},
     "output_type": "execute_result"
    }
   ],
   "source": [
    "# Membership operators\n",
    "l=[1,2,3,4,5]\n",
    "\n",
    "1 in l"
   ]
  },
  {
   "cell_type": "code",
   "execution_count": 52,
   "id": "88bf4e47",
   "metadata": {},
   "outputs": [
    {
     "data": {
      "text/plain": [
       "True"
      ]
     },
     "execution_count": 52,
     "metadata": {},
     "output_type": "execute_result"
    }
   ],
   "source": [
    "10 not in l"
   ]
  },
  {
   "cell_type": "code",
   "execution_count": 53,
   "id": "93033fad",
   "metadata": {},
   "outputs": [
    {
     "data": {
      "text/plain": [
       "False"
      ]
     },
     "execution_count": 53,
     "metadata": {},
     "output_type": "execute_result"
    }
   ],
   "source": [
    "10 in l"
   ]
  },
  {
   "cell_type": "code",
   "execution_count": null,
   "id": "0c778841",
   "metadata": {},
   "outputs": [],
   "source": []
  }
 ],
 "metadata": {
  "kernelspec": {
   "display_name": "Python 3 (ipykernel)",
   "language": "python",
   "name": "python3"
  },
  "language_info": {
   "codemirror_mode": {
    "name": "ipython",
    "version": 3
   },
   "file_extension": ".py",
   "mimetype": "text/x-python",
   "name": "python",
   "nbconvert_exporter": "python",
   "pygments_lexer": "ipython3",
   "version": "3.10.9"
  }
 },
 "nbformat": 4,
 "nbformat_minor": 5
}
