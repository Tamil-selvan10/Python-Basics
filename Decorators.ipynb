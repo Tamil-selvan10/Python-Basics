{
 "cells": [
  {
   "cell_type": "markdown",
   "id": "4b8df9d9",
   "metadata": {},
   "source": [
    "#### Decorators"
   ]
  },
  {
   "cell_type": "markdown",
   "id": "79e778fa",
   "metadata": {},
   "source": [
    "- Decorators are the functions which modifies functionality of another function.\n",
    "- We can add/modify more functionality in a function.\n",
    "- We can switch on/switch off this new functionality with decorator function."
   ]
  },
  {
   "cell_type": "code",
   "execution_count": 2,
   "id": "d71128be",
   "metadata": {},
   "outputs": [],
   "source": [
    "def greet():\n",
    "    return 'Good Morning'"
   ]
  },
  {
   "cell_type": "code",
   "execution_count": 3,
   "id": "4c99765f",
   "metadata": {},
   "outputs": [
    {
     "data": {
      "text/plain": [
       "<function __main__.greet()>"
      ]
     },
     "execution_count": 3,
     "metadata": {},
     "output_type": "execute_result"
    }
   ],
   "source": [
    "greet"
   ]
  },
  {
   "cell_type": "code",
   "execution_count": 4,
   "id": "ec9b5cb7",
   "metadata": {},
   "outputs": [
    {
     "data": {
      "text/plain": [
       "'Good Morning'"
      ]
     },
     "execution_count": 4,
     "metadata": {},
     "output_type": "execute_result"
    }
   ],
   "source": [
    "greet()"
   ]
  },
  {
   "cell_type": "code",
   "execution_count": 5,
   "id": "3cef48c7",
   "metadata": {},
   "outputs": [],
   "source": [
    "hello=greet # hello whether stores the greet function or it calls greet function  ?"
   ]
  },
  {
   "cell_type": "code",
   "execution_count": 6,
   "id": "9d80f26a",
   "metadata": {},
   "outputs": [
    {
     "data": {
      "text/plain": [
       "<function __main__.greet()>"
      ]
     },
     "execution_count": 6,
     "metadata": {},
     "output_type": "execute_result"
    }
   ],
   "source": [
    "hello"
   ]
  },
  {
   "cell_type": "code",
   "execution_count": 7,
   "id": "573f2c47",
   "metadata": {},
   "outputs": [
    {
     "data": {
      "text/plain": [
       "'Good Morning'"
      ]
     },
     "execution_count": 7,
     "metadata": {},
     "output_type": "execute_result"
    }
   ],
   "source": [
    "hello()"
   ]
  },
  {
   "cell_type": "code",
   "execution_count": 8,
   "id": "c42d8dc8",
   "metadata": {},
   "outputs": [
    {
     "data": {
      "text/plain": [
       "2652820587568"
      ]
     },
     "execution_count": 8,
     "metadata": {},
     "output_type": "execute_result"
    }
   ],
   "source": [
    "id(hello)"
   ]
  },
  {
   "cell_type": "code",
   "execution_count": 9,
   "id": "6355aa0a",
   "metadata": {},
   "outputs": [
    {
     "data": {
      "text/plain": [
       "2652820587568"
      ]
     },
     "execution_count": 9,
     "metadata": {},
     "output_type": "execute_result"
    }
   ],
   "source": [
    "id(greet)"
   ]
  },
  {
   "cell_type": "code",
   "execution_count": 10,
   "id": "a8d2bf66",
   "metadata": {},
   "outputs": [],
   "source": [
    "del greet"
   ]
  },
  {
   "cell_type": "code",
   "execution_count": 11,
   "id": "85635f65",
   "metadata": {},
   "outputs": [
    {
     "ename": "NameError",
     "evalue": "name 'greet' is not defined",
     "output_type": "error",
     "traceback": [
      "\u001b[1;31m---------------------------------------------------------------------------\u001b[0m",
      "\u001b[1;31mNameError\u001b[0m                                 Traceback (most recent call last)",
      "Cell \u001b[1;32mIn[11], line 1\u001b[0m\n\u001b[1;32m----> 1\u001b[0m \u001b[43mgreet\u001b[49m()\n",
      "\u001b[1;31mNameError\u001b[0m: name 'greet' is not defined"
     ]
    }
   ],
   "source": [
    "greet()"
   ]
  },
  {
   "cell_type": "code",
   "execution_count": 12,
   "id": "5d03a722",
   "metadata": {},
   "outputs": [
    {
     "data": {
      "text/plain": [
       "'Good Morning'"
      ]
     },
     "execution_count": 12,
     "metadata": {},
     "output_type": "execute_result"
    }
   ],
   "source": [
    "hello()  #hello stores the greet function"
   ]
  },
  {
   "cell_type": "markdown",
   "id": "c2ed8da8",
   "metadata": {},
   "source": [
    "### ================================================================================= ###"
   ]
  },
  {
   "cell_type": "code",
   "execution_count": 15,
   "id": "1efbe2e5",
   "metadata": {},
   "outputs": [],
   "source": [
    "def hello(name='Thomas'):\n",
    "    print('I am function hello')\n",
    "    \n",
    "    def greet():\n",
    "        return '\\t I am function greet within hello'\n",
    "    \n",
    "    def welcome():\n",
    "        return '\\t I am function welcome within hello'\n",
    "    \n",
    "    print(greet())\n",
    "    print(welcome())\n",
    "    print('Function hello ends here')\n",
    " "
   ]
  },
  {
   "cell_type": "code",
   "execution_count": 16,
   "id": "c8078d40",
   "metadata": {},
   "outputs": [
    {
     "name": "stdout",
     "output_type": "stream",
     "text": [
      "I am function hello\n",
      "\t I am function greet within hello\n",
      "\t I am function welcome within hello\n",
      "Function hello ends here\n"
     ]
    }
   ],
   "source": [
    "hello()"
   ]
  },
  {
   "cell_type": "code",
   "execution_count": 17,
   "id": "117e05c3",
   "metadata": {},
   "outputs": [
    {
     "ename": "NameError",
     "evalue": "name 'greet' is not defined",
     "output_type": "error",
     "traceback": [
      "\u001b[1;31m---------------------------------------------------------------------------\u001b[0m",
      "\u001b[1;31mNameError\u001b[0m                                 Traceback (most recent call last)",
      "Cell \u001b[1;32mIn[17], line 1\u001b[0m\n\u001b[1;32m----> 1\u001b[0m \u001b[43mgreet\u001b[49m()\n",
      "\u001b[1;31mNameError\u001b[0m: name 'greet' is not defined"
     ]
    }
   ],
   "source": [
    "greet()"
   ]
  },
  {
   "cell_type": "code",
   "execution_count": 18,
   "id": "95c6b1a1",
   "metadata": {},
   "outputs": [
    {
     "ename": "NameError",
     "evalue": "name 'welcome' is not defined",
     "output_type": "error",
     "traceback": [
      "\u001b[1;31m---------------------------------------------------------------------------\u001b[0m",
      "\u001b[1;31mNameError\u001b[0m                                 Traceback (most recent call last)",
      "Cell \u001b[1;32mIn[18], line 1\u001b[0m\n\u001b[1;32m----> 1\u001b[0m \u001b[43mwelcome\u001b[49m()\n",
      "\u001b[1;31mNameError\u001b[0m: name 'welcome' is not defined"
     ]
    }
   ],
   "source": [
    "welcome()"
   ]
  },
  {
   "cell_type": "code",
   "execution_count": 19,
   "id": "4633844a",
   "metadata": {},
   "outputs": [],
   "source": [
    "def hello(name='Thomas'):\n",
    "    print('I am function hello')\n",
    "    \n",
    "    def greet():\n",
    "        return '\\t I am function greet within hello'\n",
    "    \n",
    "    def welcome():\n",
    "        return '\\t I am function welcome within hello'\n",
    "    \n",
    "    if name=='Thomas':\n",
    "        return greet\n",
    "    else:\n",
    "        return welcome"
   ]
  },
  {
   "cell_type": "code",
   "execution_count": 21,
   "id": "5b2e7245",
   "metadata": {},
   "outputs": [
    {
     "name": "stdout",
     "output_type": "stream",
     "text": [
      "I am function hello\n",
      "\t I am function greet within hello\n"
     ]
    }
   ],
   "source": [
    "my_function=hello('Thomas')\n",
    "print(my_function())"
   ]
  },
  {
   "cell_type": "code",
   "execution_count": 22,
   "id": "6f8749df",
   "metadata": {},
   "outputs": [
    {
     "name": "stdout",
     "output_type": "stream",
     "text": [
      "I am function hello\n",
      "\t I am function welcome within hello\n"
     ]
    }
   ],
   "source": [
    "my_function=hello('John')\n",
    "print(my_function())"
   ]
  },
  {
   "cell_type": "markdown",
   "id": "b0733c50",
   "metadata": {},
   "source": [
    "### ================================================================================ ###"
   ]
  },
  {
   "cell_type": "code",
   "execution_count": 30,
   "id": "f0d70b10",
   "metadata": {},
   "outputs": [],
   "source": [
    "def first():\n",
    "    print('Hi Tom')\n",
    "\n",
    "def second(func):\n",
    "    func()\n",
    "    print('Hi second')\n",
    "    "
   ]
  },
  {
   "cell_type": "code",
   "execution_count": 31,
   "id": "035a3b27",
   "metadata": {},
   "outputs": [
    {
     "name": "stdout",
     "output_type": "stream",
     "text": [
      "Hi Tom\n"
     ]
    }
   ],
   "source": [
    "first()"
   ]
  },
  {
   "cell_type": "code",
   "execution_count": 32,
   "id": "5ac3c5b1",
   "metadata": {},
   "outputs": [
    {
     "name": "stdout",
     "output_type": "stream",
     "text": [
      "Hi Tom\n",
      "Hi second\n"
     ]
    }
   ],
   "source": [
    "second(first)"
   ]
  },
  {
   "cell_type": "markdown",
   "id": "26af6c10",
   "metadata": {},
   "source": [
    "### ================================================================================ ###"
   ]
  },
  {
   "cell_type": "code",
   "execution_count": 35,
   "id": "bf31f4ae",
   "metadata": {},
   "outputs": [],
   "source": [
    "def new_decorator(original_function):\n",
    "    \n",
    "    def wrap_function():\n",
    "        print('code before original function')\n",
    "        original_function()\n",
    "        print('code after original function')\n",
    "        \n",
    "    return wrap_function"
   ]
  },
  {
   "cell_type": "markdown",
   "id": "964bdd88",
   "metadata": {},
   "source": [
    "####  Method 1"
   ]
  },
  {
   "cell_type": "code",
   "execution_count": 37,
   "id": "c80c32fe",
   "metadata": {},
   "outputs": [],
   "source": [
    "def function_need_decorated():\n",
    "    print('I want to be decorated !')"
   ]
  },
  {
   "cell_type": "code",
   "execution_count": 39,
   "id": "5ff31f2a",
   "metadata": {},
   "outputs": [
    {
     "data": {
      "text/plain": [
       "<function __main__.new_decorator.<locals>.wrap_function()>"
      ]
     },
     "execution_count": 39,
     "metadata": {},
     "output_type": "execute_result"
    }
   ],
   "source": [
    "my_function=new_decorator(function_need_decorated)\n",
    "my_function"
   ]
  },
  {
   "cell_type": "code",
   "execution_count": 40,
   "id": "eb84fb0f",
   "metadata": {},
   "outputs": [
    {
     "name": "stdout",
     "output_type": "stream",
     "text": [
      "code before original function\n",
      "I want to be decorated !\n",
      "code after original function\n"
     ]
    }
   ],
   "source": [
    "my_function()"
   ]
  },
  {
   "cell_type": "markdown",
   "id": "196dcc0a",
   "metadata": {},
   "source": [
    "#### Method 2"
   ]
  },
  {
   "cell_type": "code",
   "execution_count": 41,
   "id": "dc1623b3",
   "metadata": {},
   "outputs": [],
   "source": [
    "@new_decorator\n",
    "def function_need_decorated():\n",
    "    print('I want to be decorated !')"
   ]
  },
  {
   "cell_type": "code",
   "execution_count": 42,
   "id": "20c6fc57",
   "metadata": {},
   "outputs": [
    {
     "name": "stdout",
     "output_type": "stream",
     "text": [
      "code before original function\n",
      "I want to be decorated !\n",
      "code after original function\n"
     ]
    }
   ],
   "source": [
    "function_need_decorated()"
   ]
  },
  {
   "cell_type": "code",
   "execution_count": 43,
   "id": "0e9e5779",
   "metadata": {},
   "outputs": [],
   "source": [
    "# @new_decorator\n",
    "def function_need_decorated():\n",
    "    print('I want to be decorated !')"
   ]
  },
  {
   "cell_type": "code",
   "execution_count": 44,
   "id": "ad1f9a91",
   "metadata": {},
   "outputs": [
    {
     "name": "stdout",
     "output_type": "stream",
     "text": [
      "I want to be decorated !\n"
     ]
    }
   ],
   "source": [
    "function_need_decorated()"
   ]
  },
  {
   "cell_type": "code",
   "execution_count": null,
   "id": "6c91e2fd",
   "metadata": {},
   "outputs": [],
   "source": []
  }
 ],
 "metadata": {
  "kernelspec": {
   "display_name": "Python 3 (ipykernel)",
   "language": "python",
   "name": "python3"
  },
  "language_info": {
   "codemirror_mode": {
    "name": "ipython",
    "version": 3
   },
   "file_extension": ".py",
   "mimetype": "text/x-python",
   "name": "python",
   "nbconvert_exporter": "python",
   "pygments_lexer": "ipython3",
   "version": "3.10.9"
  }
 },
 "nbformat": 4,
 "nbformat_minor": 5
}
