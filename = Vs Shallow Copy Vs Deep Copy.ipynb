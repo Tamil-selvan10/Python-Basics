{
 "cells": [
  {
   "cell_type": "markdown",
   "id": "27509b65",
   "metadata": {},
   "source": [
    "# ="
   ]
  },
  {
   "cell_type": "code",
   "execution_count": 1,
   "id": "60e9cd53",
   "metadata": {},
   "outputs": [
    {
     "name": "stdout",
     "output_type": "stream",
     "text": [
      "without copy\n",
      "a:[1, 2, 3, 4, 5]\n",
      "b:[1, 2, 3, 4, 5]\n",
      "after append 100 into b\n",
      "a:[1, 2, 3, 4, 5, 100]\n",
      "b:[1, 2, 3, 4, 5, 100]\n"
     ]
    }
   ],
   "source": [
    "print('without copy')\n",
    "a=[1,2,3,4,5]\n",
    "b=a\n",
    "print(f'a:{a}')\n",
    "print(f'b:{b}')\n",
    "print('after append 100 into b')\n",
    "b.append(100)\n",
    "print(f'a:{a}')\n",
    "print(f'b:{b}')"
   ]
  },
  {
   "cell_type": "markdown",
   "id": "9d95807f",
   "metadata": {},
   "source": [
    "# Normal List - Shallow Copy"
   ]
  },
  {
   "cell_type": "code",
   "execution_count": 14,
   "id": "c2d8ed12",
   "metadata": {},
   "outputs": [
    {
     "name": "stdout",
     "output_type": "stream",
     "text": [
      "a:[1, 2, 3, 4, 5]\n",
      "b:[1, 2, 3, 4, 5]\n",
      "after append 100 into b\n",
      "a:[1, 2, 3, 4, 5]\n",
      "b:[1, 2, 3, 4, 5, 100]\n"
     ]
    }
   ],
   "source": [
    "import copy\n",
    "\n",
    "a=[1,2,3,4,5]\n",
    "b=copy.copy(a)\n",
    "print(f'a:{a}')\n",
    "print(f'b:{b}')\n",
    "print('after append 100 into b')\n",
    "b.append(100)\n",
    "print(f'a:{a}')\n",
    "print(f'b:{b}')"
   ]
  },
  {
   "cell_type": "markdown",
   "id": "69ca9d92",
   "metadata": {},
   "source": [
    "# Normal List - Deep Copy"
   ]
  },
  {
   "cell_type": "code",
   "execution_count": 12,
   "id": "013bb16a",
   "metadata": {},
   "outputs": [
    {
     "name": "stdout",
     "output_type": "stream",
     "text": [
      "a:[1, 2, 3, 4, 5]\n",
      "b:[1, 2, 3, 4, 5]\n",
      "after append 100 into b\n",
      "a:[1, 2, 3, 4, 5]\n",
      "b:[1, 2, 3, 4, 5, 100]\n"
     ]
    }
   ],
   "source": [
    "import copy\n",
    "\n",
    "a=[1,2,3,4,5]\n",
    "b=copy.deepcopy(a)\n",
    "print(f'a:{a}')\n",
    "print(f'b:{b}')\n",
    "print('after append 100 into b')\n",
    "b.append(100)\n",
    "print(f'a:{a}')\n",
    "print(f'b:{b}')"
   ]
  },
  {
   "cell_type": "markdown",
   "id": "a1f54546",
   "metadata": {},
   "source": [
    "##### In a normal list, shallow copy == deep copy"
   ]
  },
  {
   "cell_type": "markdown",
   "id": "fa1dad5a",
   "metadata": {},
   "source": [
    "# Nested List - Shallow Copy"
   ]
  },
  {
   "cell_type": "code",
   "execution_count": 4,
   "id": "12de7a9b",
   "metadata": {},
   "outputs": [
    {
     "name": "stdout",
     "output_type": "stream",
     "text": [
      "a:[[1, 2, 3], [4, 5, 6], [7, 8, 9]]\n",
      "b:[[1, 2, 3], [4, 5, 6], [7, 8, 9]]\n",
      "after append 100 into b\n",
      "a:[[1, 2, 3], [4, 5, 6], [7, 8, 9]]\n",
      "b:[[1, 2, 3], [4, 5, 6], [7, 8, 9], 100]\n"
     ]
    }
   ],
   "source": [
    "import copy     # append operation\n",
    "\n",
    "a=[[1,2,3],[4,5,6],[7,8,9]]\n",
    "b=copy.copy(a)\n",
    "print(f'a:{a}')\n",
    "print(f'b:{b}')\n",
    "print('after append 100 into b')\n",
    "b.append(100)\n",
    "print(f'a:{a}')\n",
    "print(f'b:{b}')"
   ]
  },
  {
   "cell_type": "code",
   "execution_count": 8,
   "id": "245b1621",
   "metadata": {},
   "outputs": [
    {
     "name": "stdout",
     "output_type": "stream",
     "text": [
      "a:[[1, 2, 3], [4, 5, 6], [7, 8, 9]]\n",
      "b:[[1, 2, 3], [4, 5, 6], [7, 8, 9]]\n",
      "after update the value of 5 by 50 in b\n",
      "a:[[1, 2, 3], [4, 50, 6], [7, 8, 9]]\n",
      "b:[[1, 2, 3], [4, 50, 6], [7, 8, 9]]\n"
     ]
    }
   ],
   "source": [
    "import copy  #update operation\n",
    "\n",
    "a=[[1,2,3],[4,5,6],[7,8,9]]\n",
    "b=copy.copy(a)\n",
    "print(f'a:{a}')\n",
    "print(f'b:{b}')\n",
    "print('after update the value of 5 by 50 in b')\n",
    "b[1][1]=50\n",
    "print(f'a:{a}')\n",
    "print(f'b:{b}')"
   ]
  },
  {
   "cell_type": "code",
   "execution_count": null,
   "id": "992626bb",
   "metadata": {},
   "outputs": [],
   "source": [
    "#### In a nested list, if you append a value to one list, it will not change the value in another list.\n",
    "#### But if you update the value in one list,it will change the value in another list."
   ]
  },
  {
   "cell_type": "markdown",
   "id": "d1daa568",
   "metadata": {},
   "source": [
    "# Nested List - Deep Copy"
   ]
  },
  {
   "cell_type": "code",
   "execution_count": 19,
   "id": "e604941d",
   "metadata": {},
   "outputs": [
    {
     "name": "stdout",
     "output_type": "stream",
     "text": [
      "a:[[1, 2, 3], [4, 5, 6], [7, 8, 9]]\n",
      "b:[[1, 2, 3], [4, 5, 6], [7, 8, 9]]\n",
      "after append 100 into b\n",
      "a:[[1, 2, 3], [4, 5, 6], [7, 8, 9]]\n",
      "b:[[1, 2, 3], [4, 5, 6], [7, 8, 9], 100]\n"
     ]
    }
   ],
   "source": [
    "import copy # append operation\n",
    "\n",
    "a=[[1,2,3],[4,5,6],[7,8,9]]\n",
    "b=copy.deepcopy(a)\n",
    "print(f'a:{a}')\n",
    "print(f'b:{b}')\n",
    "print('after append 100 into b')\n",
    "b.append(100)\n",
    "print(f'a:{a}')\n",
    "print(f'b:{b}')"
   ]
  },
  {
   "cell_type": "code",
   "execution_count": 20,
   "id": "f5d42a47",
   "metadata": {},
   "outputs": [
    {
     "name": "stdout",
     "output_type": "stream",
     "text": [
      "a:[[1, 2, 3], [4, 5, 6], [7, 8, 9]]\n",
      "b:[[1, 2, 3], [4, 5, 6], [7, 8, 9]]\n",
      "after update the value of 5 by 50 in b\n",
      "a:[[1, 2, 3], [4, 5, 6], [7, 8, 9]]\n",
      "b:[[1, 2, 3], [4, 50, 6], [7, 8, 9]]\n"
     ]
    }
   ],
   "source": [
    "import copy # update operation\n",
    "\n",
    "a=[[1,2,3],[4,5,6],[7,8,9]]\n",
    "b=copy.deepcopy(a)\n",
    "\n",
    "print(f'a:{a}')\n",
    "print(f'b:{b}')\n",
    "print('after update the value of 5 by 50 in b')\n",
    "b[1][1]=50\n",
    "print(f'a:{a}')\n",
    "print(f'b:{b}')"
   ]
  },
  {
   "cell_type": "markdown",
   "id": "9f51f5e3",
   "metadata": {},
   "source": [
    "#### Conclusion"
   ]
  },
  {
   "cell_type": "code",
   "execution_count": null,
   "id": "864abecf",
   "metadata": {},
   "outputs": [],
   "source": [
    "1. In a normal list, shallow copy == deep copy\n",
    "2. In a nested list,\n",
    "                  shallow copy\n",
    "                  a)append ---> not reflected (append the value in one list will not affect other list)\n",
    "                  b)update ---> reflected     (update done in one list will affect the other list)\n",
    "            \n",
    "                  deep copy\n",
    "                  a)append ---> not reflected (append the value in one list will not affect other list)\n",
    "                  b)update ---> not reflected (update done in one list will not affect other list)"
   ]
  },
  {
   "cell_type": "markdown",
   "id": "93729517",
   "metadata": {},
   "source": [
    "#####\n",
    "- In python, assignment operator doesn’t copy the object, instead it copy the reference of object and store in new variable, so any changes in one variable will get reflected in another variable."
   ]
  },
  {
   "cell_type": "markdown",
   "id": "e8b331dd",
   "metadata": {},
   "source": [
    "#### \n",
    "- A shallow copy constructs a new compound object and then (to the extent possible) inserts references into it to the objects found in the original.\n",
    "#### \n",
    "- A deep copy constructs a new compound object and then, recursively, inserts copies into it of the objects found in the original."
   ]
  },
  {
   "cell_type": "markdown",
   "id": "bf8f9115",
   "metadata": {},
   "source": [
    "#### Reference Link:\n",
    "- https://medium.com/analytics-vidhya/difference-between-deepcopy-and-shallow-copy-in-python-c0ecea1"
   ]
  },
  {
   "cell_type": "code",
   "execution_count": null,
   "id": "b42d2410",
   "metadata": {},
   "outputs": [],
   "source": []
  }
 ],
 "metadata": {
  "kernelspec": {
   "display_name": "Python 3 (ipykernel)",
   "language": "python",
   "name": "python3"
  },
  "language_info": {
   "codemirror_mode": {
    "name": "ipython",
    "version": 3
   },
   "file_extension": ".py",
   "mimetype": "text/x-python",
   "name": "python",
   "nbconvert_exporter": "python",
   "pygments_lexer": "ipython3",
   "version": "3.10.9"
  }
 },
 "nbformat": 4,
 "nbformat_minor": 5
}
