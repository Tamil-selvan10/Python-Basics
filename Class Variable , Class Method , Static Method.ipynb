{
 "cells": [
  {
   "cell_type": "markdown",
   "id": "2b591a2f",
   "metadata": {},
   "source": [
    "#### Class Variables\n",
    "- In python,class variables are variables that are shared by all instances of a class.\n",
    "- They are defined within the class,but outside of any methods or constructors.\n",
    "- Class variables are associated with the class itself rather than with specific instances of the class."
   ]
  },
  {
   "cell_type": "markdown",
   "id": "3b50a6ff",
   "metadata": {},
   "source": [
    "#### Class method\n",
    "- In python, a class method is a special type of method that is bound to the class rather than an instance of the class.\n",
    "- It is defined using the @classmethod decorator,followed by a function definition within the class.\n",
    "- Class methods have access to the class itself as the first parameter,conventionally named cls,instead of the instance(self) that is used in regular methods."
   ]
  },
  {
   "cell_type": "markdown",
   "id": "639f7007",
   "metadata": {},
   "source": [
    "#### Static Method\n",
    "- In python,a static method is a method that belongs to a class but doesn't have access to the class itself(via self) or its instances.\n",
    "- It is defined using the @staticmethod decorator, and are typically used when a method doesn't require access to instance specific data or class specific data.\n",
    "- Static methods are often used when you have a utility function or a method that doesn't depend on the state of a specific instance or the class itself.They are self-contained and don't have access to instance variables or class variables unless they are explicitly passed as arguments.\n",
    "\n",
    "- It's important to note that static methods don't have the ability to modify the state of the instance or the class.\n",
    "- They are independent of any specific instance and can be called without creating an instance of the class.\n",
    "\n"
   ]
  },
  {
   "cell_type": "code",
   "execution_count": 21,
   "id": "c41dbf59",
   "metadata": {},
   "outputs": [],
   "source": [
    "class Employee:\n",
    "    \n",
    "    company_name='ineuron' #class variable\n",
    "    \n",
    "    def __init__(self,firstname,lastname):\n",
    "        self.first_name=firstname\n",
    "        self.last_name=lastname\n",
    "    \n",
    "    @classmethod\n",
    "    def update_company_name(cls,company_name): #class method\n",
    "        cls.company_name=company_name\n",
    "        \n",
    "    @staticmethod\n",
    "    def display_company_name(): #static method\n",
    "        return f'The company name is {Employee.company_name}'"
   ]
  },
  {
   "cell_type": "code",
   "execution_count": 4,
   "id": "cb401974",
   "metadata": {},
   "outputs": [],
   "source": [
    "e1=Employee('Krish','Naik')"
   ]
  },
  {
   "cell_type": "markdown",
   "id": "9dd942fe",
   "metadata": {},
   "source": [
    "#### Object access"
   ]
  },
  {
   "cell_type": "code",
   "execution_count": 5,
   "id": "f4362f69",
   "metadata": {},
   "outputs": [
    {
     "data": {
      "text/plain": [
       "'ineuron'"
      ]
     },
     "execution_count": 5,
     "metadata": {},
     "output_type": "execute_result"
    }
   ],
   "source": [
    "e1.company_name # class variable"
   ]
  },
  {
   "cell_type": "code",
   "execution_count": 6,
   "id": "ec669a97",
   "metadata": {},
   "outputs": [
    {
     "data": {
      "text/plain": [
       "'Krish'"
      ]
     },
     "execution_count": 6,
     "metadata": {},
     "output_type": "execute_result"
    }
   ],
   "source": [
    "e1.first_name # attributes"
   ]
  },
  {
   "cell_type": "code",
   "execution_count": 7,
   "id": "1c5f3ecd",
   "metadata": {},
   "outputs": [
    {
     "data": {
      "text/plain": [
       "'Naik'"
      ]
     },
     "execution_count": 7,
     "metadata": {},
     "output_type": "execute_result"
    }
   ],
   "source": [
    "e1.last_name # attributes"
   ]
  },
  {
   "cell_type": "code",
   "execution_count": 8,
   "id": "a9823013",
   "metadata": {},
   "outputs": [],
   "source": [
    "e1.update_company_name('Pwc') #class method (Not Good Practice)"
   ]
  },
  {
   "cell_type": "code",
   "execution_count": 9,
   "id": "030a9724",
   "metadata": {},
   "outputs": [
    {
     "data": {
      "text/plain": [
       "'Pwc'"
      ]
     },
     "execution_count": 9,
     "metadata": {},
     "output_type": "execute_result"
    }
   ],
   "source": [
    "e1.company_name"
   ]
  },
  {
   "cell_type": "code",
   "execution_count": 11,
   "id": "946335e6",
   "metadata": {},
   "outputs": [
    {
     "data": {
      "text/plain": [
       "'The company name is Pwc'"
      ]
     },
     "execution_count": 11,
     "metadata": {},
     "output_type": "execute_result"
    }
   ],
   "source": [
    "e1.display_company_name() # static method"
   ]
  },
  {
   "cell_type": "markdown",
   "id": "4f218226",
   "metadata": {},
   "source": [
    "#### Class access"
   ]
  },
  {
   "cell_type": "code",
   "execution_count": 22,
   "id": "ff7f1739",
   "metadata": {},
   "outputs": [],
   "source": [
    "e1=Employee('Krish','Naik')"
   ]
  },
  {
   "cell_type": "code",
   "execution_count": 23,
   "id": "230a53e6",
   "metadata": {},
   "outputs": [
    {
     "data": {
      "text/plain": [
       "'ineuron'"
      ]
     },
     "execution_count": 23,
     "metadata": {},
     "output_type": "execute_result"
    }
   ],
   "source": [
    "Employee.company_name # class variable"
   ]
  },
  {
   "cell_type": "code",
   "execution_count": 24,
   "id": "8d98d8e3",
   "metadata": {},
   "outputs": [
    {
     "ename": "AttributeError",
     "evalue": "type object 'Employee' has no attribute 'first_name'",
     "output_type": "error",
     "traceback": [
      "\u001b[1;31m---------------------------------------------------------------------------\u001b[0m",
      "\u001b[1;31mAttributeError\u001b[0m                            Traceback (most recent call last)",
      "Cell \u001b[1;32mIn[24], line 1\u001b[0m\n\u001b[1;32m----> 1\u001b[0m \u001b[43mEmployee\u001b[49m\u001b[38;5;241;43m.\u001b[39;49m\u001b[43mfirst_name\u001b[49m\n",
      "\u001b[1;31mAttributeError\u001b[0m: type object 'Employee' has no attribute 'first_name'"
     ]
    }
   ],
   "source": [
    "Employee.first_name #attributes"
   ]
  },
  {
   "cell_type": "code",
   "execution_count": 25,
   "id": "1ac024a1",
   "metadata": {},
   "outputs": [
    {
     "ename": "AttributeError",
     "evalue": "type object 'Employee' has no attribute 'last_name'",
     "output_type": "error",
     "traceback": [
      "\u001b[1;31m---------------------------------------------------------------------------\u001b[0m",
      "\u001b[1;31mAttributeError\u001b[0m                            Traceback (most recent call last)",
      "Cell \u001b[1;32mIn[25], line 1\u001b[0m\n\u001b[1;32m----> 1\u001b[0m \u001b[43mEmployee\u001b[49m\u001b[38;5;241;43m.\u001b[39;49m\u001b[43mlast_name\u001b[49m\n",
      "\u001b[1;31mAttributeError\u001b[0m: type object 'Employee' has no attribute 'last_name'"
     ]
    }
   ],
   "source": [
    "Employee.last_name #attributes"
   ]
  },
  {
   "cell_type": "code",
   "execution_count": 27,
   "id": "b9786102",
   "metadata": {},
   "outputs": [],
   "source": [
    "Employee.update_company_name('Pwskills') # class method"
   ]
  },
  {
   "cell_type": "code",
   "execution_count": 28,
   "id": "1bdaeefa",
   "metadata": {},
   "outputs": [
    {
     "data": {
      "text/plain": [
       "'Pwskills'"
      ]
     },
     "execution_count": 28,
     "metadata": {},
     "output_type": "execute_result"
    }
   ],
   "source": [
    "Employee.company_name # class variable"
   ]
  },
  {
   "cell_type": "code",
   "execution_count": 29,
   "id": "c40f5e8b",
   "metadata": {},
   "outputs": [
    {
     "data": {
      "text/plain": [
       "'The company name is Pwskills'"
      ]
     },
     "execution_count": 29,
     "metadata": {},
     "output_type": "execute_result"
    }
   ],
   "source": [
    "Employee.display_company_name() # static method"
   ]
  },
  {
   "cell_type": "markdown",
   "id": "ad8f1f70",
   "metadata": {},
   "source": [
    "##### Note:\n",
    "- Using object, we can access\n",
    "   - class variable\n",
    "   - attributes\n",
    "   - method\n",
    "   - class method\n",
    "   - static method\n",
    "    \n",
    "- Using class name, we can access\n",
    "    - class variable\n",
    "    - class method\n",
    "    - static method"
   ]
  },
  {
   "cell_type": "code",
   "execution_count": null,
   "id": "56d00628",
   "metadata": {},
   "outputs": [],
   "source": []
  }
 ],
 "metadata": {
  "kernelspec": {
   "display_name": "Python 3 (ipykernel)",
   "language": "python",
   "name": "python3"
  },
  "language_info": {
   "codemirror_mode": {
    "name": "ipython",
    "version": 3
   },
   "file_extension": ".py",
   "mimetype": "text/x-python",
   "name": "python",
   "nbconvert_exporter": "python",
   "pygments_lexer": "ipython3",
   "version": "3.10.9"
  }
 },
 "nbformat": 4,
 "nbformat_minor": 5
}
